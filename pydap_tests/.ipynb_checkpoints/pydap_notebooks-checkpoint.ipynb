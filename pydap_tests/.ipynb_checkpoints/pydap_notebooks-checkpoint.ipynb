{
 "cells": [
  {
   "cell_type": "markdown",
   "metadata": {},
   "source": [
    "# pydap Notebooks\n",
    "repo: https://github.com/ec-intaros/pydap-use-cases/blob/master/README.md"
   ]
  },
  {
   "cell_type": "markdown",
   "metadata": {
    "collapsed": "true"
   },
   "source": [
    "## Setup of the Pydap Library"
   ]
  },
  {
   "cell_type": "code",
   "execution_count": 1,
   "metadata": {},
   "outputs": [],
   "source": [
    "#Add terradue to your channels\n",
    "!conda config --add channels terradue"
   ]
  },
  {
   "cell_type": "code",
   "execution_count": 1,
   "metadata": {},
   "outputs": [
    {
     "name": "stdout",
     "output_type": "stream",
     "text": [
      "Collecting package metadata (current_repodata.json): done\n",
      "Solving environment: done\n",
      "\n",
      "## Package Plan ##\n",
      "\n",
      "  environment location: /srv/conda/envs/env_vi\n",
      "\n",
      "  added / updated specs:\n",
      "    - pydap\n",
      "\n",
      "\n",
      "The following packages will be downloaded:\n",
      "\n",
      "    package                    |            build\n",
      "    ---------------------------|-----------------\n",
      "    beautifulsoup4-4.9.3       |     pyha847dfd_0          86 KB  defaults\n",
      "    brotlipy-0.7.0             |py37h27cfd23_1003         320 KB  defaults\n",
      "    ca-certificates-2021.1.19  |       h06a4308_1         118 KB  defaults\n",
      "    certifi-2020.12.5          |   py37h06a4308_0         141 KB  defaults\n",
      "    cffi-1.14.5                |   py37h261ae71_0         224 KB  defaults\n",
      "    chardet-4.0.0              |py37h06a4308_1003         195 KB  defaults\n",
      "    cryptography-3.4.6         |   py37hd23ed53_0         908 KB  defaults\n",
      "    docopt-0.6.2               |   py37h06a4308_0          24 KB  defaults\n",
      "    idna-2.10                  |     pyhd3eb1b0_0          52 KB  defaults\n",
      "    jinja2-2.11.3              |     pyhd3eb1b0_0         101 KB  defaults\n",
      "    markupsafe-1.1.1           |   py37h14c3975_1          26 KB  defaults\n",
      "    openssl-1.1.1j             |       h27cfd23_0         2.5 MB  defaults\n",
      "    pycparser-2.20             |             py_2          94 KB  defaults\n",
      "    pydap-3.2.2                |  pyh9f0ad1d_1001         1.2 MB  conda-forge\n",
      "    pyopenssl-20.0.1           |     pyhd3eb1b0_1          49 KB  defaults\n",
      "    pysocks-1.7.1              |           py37_1          27 KB  defaults\n",
      "    requests-2.25.1            |     pyhd3eb1b0_0          52 KB  defaults\n",
      "    soupsieve-2.2              |     pyhd3eb1b0_0          32 KB  defaults\n",
      "    urllib3-1.26.4             |     pyhd3eb1b0_0         105 KB  defaults\n",
      "    webob-1.8.7                |     pyhd3eb1b0_0          88 KB  defaults\n",
      "    ------------------------------------------------------------\n",
      "                                           Total:         6.3 MB\n",
      "\n",
      "The following NEW packages will be INSTALLED:\n",
      "\n",
      "  beautifulsoup4     pkgs/main/noarch::beautifulsoup4-4.9.3-pyha847dfd_0\n",
      "  brotlipy           pkgs/main/linux-64::brotlipy-0.7.0-py37h27cfd23_1003\n",
      "  cffi               pkgs/main/linux-64::cffi-1.14.5-py37h261ae71_0\n",
      "  chardet            pkgs/main/linux-64::chardet-4.0.0-py37h06a4308_1003\n",
      "  cryptography       pkgs/main/linux-64::cryptography-3.4.6-py37hd23ed53_0\n",
      "  docopt             pkgs/main/linux-64::docopt-0.6.2-py37h06a4308_0\n",
      "  idna               pkgs/main/noarch::idna-2.10-pyhd3eb1b0_0\n",
      "  jinja2             pkgs/main/noarch::jinja2-2.11.3-pyhd3eb1b0_0\n",
      "  markupsafe         pkgs/main/linux-64::markupsafe-1.1.1-py37h14c3975_1\n",
      "  pycparser          pkgs/main/noarch::pycparser-2.20-py_2\n",
      "  pydap              conda-forge/noarch::pydap-3.2.2-pyh9f0ad1d_1001\n",
      "  pyopenssl          pkgs/main/noarch::pyopenssl-20.0.1-pyhd3eb1b0_1\n",
      "  pysocks            pkgs/main/linux-64::pysocks-1.7.1-py37_1\n",
      "  requests           pkgs/main/noarch::requests-2.25.1-pyhd3eb1b0_0\n",
      "  soupsieve          pkgs/main/noarch::soupsieve-2.2-pyhd3eb1b0_0\n",
      "  urllib3            pkgs/main/noarch::urllib3-1.26.4-pyhd3eb1b0_0\n",
      "  webob              pkgs/main/noarch::webob-1.8.7-pyhd3eb1b0_0\n",
      "\n",
      "The following packages will be UPDATED:\n",
      "\n",
      "  ca-certificates    conda-forge::ca-certificates-2020.12.~ --> pkgs/main::ca-certificates-2021.1.19-h06a4308_1\n",
      "\n",
      "The following packages will be SUPERSEDED by a higher-priority channel:\n",
      "\n",
      "  certifi            conda-forge::certifi-2020.12.5-py37h8~ --> pkgs/main::certifi-2020.12.5-py37h06a4308_0\n",
      "  openssl            conda-forge::openssl-1.1.1j-h7f98852_0 --> pkgs/main::openssl-1.1.1j-h27cfd23_0\n",
      "\n",
      "\n",
      "\n",
      "Downloading and Extracting Packages\n",
      "soupsieve-2.2        | 32 KB     | ##################################### | 100% \n",
      "openssl-1.1.1j       | 2.5 MB    | ##################################### | 100% \n",
      "webob-1.8.7          | 88 KB     | ##################################### | 100% \n",
      "pydap-3.2.2          | 1.2 MB    | ##################################### | 100% \n",
      "requests-2.25.1      | 52 KB     | ##################################### | 100% \n",
      "chardet-4.0.0        | 195 KB    | ##################################### | 100% \n",
      "brotlipy-0.7.0       | 320 KB    | ##################################### | 100% \n",
      "jinja2-2.11.3        | 101 KB    | ##################################### | 100% \n",
      "docopt-0.6.2         | 24 KB     | ##################################### | 100% \n",
      "pysocks-1.7.1        | 27 KB     | ##################################### | 100% \n",
      "ca-certificates-2021 | 118 KB    | ##################################### | 100% \n",
      "beautifulsoup4-4.9.3 | 86 KB     | ##################################### | 100% \n",
      "certifi-2020.12.5    | 141 KB    | ##################################### | 100% \n",
      "markupsafe-1.1.1     | 26 KB     | ##################################### | 100% \n",
      "pyopenssl-20.0.1     | 49 KB     | ##################################### | 100% \n",
      "cffi-1.14.5          | 224 KB    | ##################################### | 100% \n",
      "idna-2.10            | 52 KB     | ##################################### | 100% \n",
      "cryptography-3.4.6   | 908 KB    | ##################################### | 100% \n",
      "pycparser-2.20       | 94 KB     | ##################################### | 100% \n",
      "urllib3-1.26.4       | 105 KB    | ##################################### | 100% \n",
      "Preparing transaction: done\n",
      "Verifying transaction: done\n",
      "Executing transaction: done\n"
     ]
    }
   ],
   "source": [
    "!conda install pydap -c terradue -y"
   ]
  },
  {
   "cell_type": "code",
   "execution_count": null,
   "metadata": {},
   "outputs": [],
   "source": []
  },
  {
   "cell_type": "markdown",
   "metadata": {
    "collapsed": "true"
   },
   "source": [
    "## Access a NetCDF remote file"
   ]
  },
  {
   "cell_type": "code",
   "execution_count": 4,
   "metadata": {},
   "outputs": [],
   "source": [
    "import sys\n",
    "from pydap.client import open_url"
   ]
  },
  {
   "cell_type": "code",
   "execution_count": 12,
   "metadata": {},
   "outputs": [],
   "source": [
    "# Open a remote NetCDF file (ie .nc):\n",
    "dataset_url = 'https://iaos.opendap.terradue.com/thredds/dodsC/SMOS_SMAP/netCDF/north/2018/20181007_north_mix_sit_v100.nc'\n",
    "dataset = open_url(dataset_url)"
   ]
  },
  {
   "cell_type": "code",
   "execution_count": 14,
   "metadata": {},
   "outputs": [
    {
     "name": "stdout",
     "output_type": "stream",
     "text": [
      "smos_thickness\n",
      "smos_thickness_unc\n",
      "smap_thickness\n",
      "smap_thickness_unc\n",
      "combined_thickness\n",
      "combined_thickness_unc\n",
      "flags\n"
     ]
    }
   ],
   "source": [
    "# List available keys\n",
    "for key in dataset.keys():\n",
    "    print(key)"
   ]
  },
  {
   "cell_type": "code",
   "execution_count": 16,
   "metadata": {},
   "outputs": [
    {
     "name": "stdout",
     "output_type": "stream",
     "text": [
      "('X', 'Y')\n",
      "(896, 608)\n"
     ]
    }
   ],
   "source": [
    "# Read the smos_thickness variable\n",
    "smos_thick = dataset['smos_thickness']\n",
    "print(smos_thick.dimensions)\n",
    "print(smos_thick.shape)"
   ]
  },
  {
   "cell_type": "code",
   "execution_count": 23,
   "metadata": {},
   "outputs": [
    {
     "name": "stdout",
     "output_type": "stream",
     "text": [
      "{'_ChunkSizes': [896, 608],\n",
      " 'algorithm_type': 'polarisation based',\n",
      " 'long_name': 'sea ice thickness derived from SMOS',\n",
      " 'standard_name': 'smos sea ice thickness',\n",
      " 'units': 'cm',\n",
      " 'valid_max': '50',\n",
      " 'valid_min': '0'}\n"
     ]
    }
   ],
   "source": [
    "# Introspect the varaible attributes: they are stored in an attribute (called attributes)\n",
    "import pprint # enables pretty print, nicely formatted\n",
    "pprint.pprint(smos_thick.attributes)"
   ]
  },
  {
   "cell_type": "code",
   "execution_count": 48,
   "metadata": {},
   "outputs": [
    {
     "data": {
      "text/plain": [
       "(896, 608)"
      ]
     },
     "execution_count": 48,
     "metadata": {},
     "output_type": "execute_result"
    }
   ],
   "source": [
    "smos_thick.data.shape"
   ]
  },
  {
   "cell_type": "code",
   "execution_count": 51,
   "metadata": {},
   "outputs": [
    {
     "data": {
      "text/plain": [
       "array([-9.99000000e+02, -9.99000000e+02, -9.99000000e+02, -9.99000000e+02,\n",
       "       -9.99000000e+02, -9.99000000e+02, -9.99000000e+02, -9.99000000e+02,\n",
       "       -9.99000000e+02, -9.99000000e+02, -9.99000000e+02, -9.99000000e+02,\n",
       "       -9.99000000e+02, -9.99000000e+02, -9.99000000e+02, -9.99000000e+02,\n",
       "       -9.99000000e+02, -9.99000000e+02, -9.99000000e+02, -9.99000000e+02,\n",
       "       -9.99000000e+02, -9.99000000e+02, -9.99000000e+02, -9.99000000e+02,\n",
       "       -9.99000000e+02, -9.99000000e+02, -9.99000000e+02, -9.99000000e+02,\n",
       "       -9.99000000e+02, -9.99000000e+02, -9.99000000e+02, -9.99000000e+02,\n",
       "       -9.99000000e+02, -9.99000000e+02, -9.99000000e+02, -9.99000000e+02,\n",
       "       -9.99000000e+02, -9.99000000e+02, -9.99000000e+02, -9.99000000e+02,\n",
       "       -9.99000000e+02, -9.99000000e+02, -9.99000000e+02, -9.99000000e+02,\n",
       "       -9.99000000e+02, -9.99000000e+02, -9.99000000e+02, -9.99000000e+02,\n",
       "       -9.99000000e+02, -9.99000000e+02, -9.99000000e+02, -9.99000000e+02,\n",
       "       -9.99000000e+02, -9.99000000e+02, -9.99000000e+02, -9.99000000e+02,\n",
       "       -9.99000000e+02, -9.99000000e+02, -9.99000000e+02, -9.99000000e+02,\n",
       "       -9.99000000e+02, -9.99000000e+02, -9.99000000e+02, -9.99000000e+02,\n",
       "       -9.99000000e+02, -9.99000000e+02, -9.99000000e+02, -9.99000000e+02,\n",
       "       -9.99000000e+02, -9.99000000e+02, -9.99000000e+02, -9.99000000e+02,\n",
       "       -9.99000000e+02, -9.99000000e+02, -9.99000000e+02, -9.99000000e+02,\n",
       "       -9.99000000e+02, -9.99000000e+02, -9.99000000e+02, -9.99000000e+02,\n",
       "       -9.99000000e+02, -9.99000000e+02, -9.99000000e+02, -9.99000000e+02,\n",
       "       -9.99000000e+02, -9.99000000e+02, -9.99000000e+02, -9.99000000e+02,\n",
       "       -9.99000000e+02, -9.99000000e+02, -9.99000000e+02, -9.99000000e+02,\n",
       "       -9.99000000e+02, -9.99000000e+02, -9.99000000e+02, -9.99000000e+02,\n",
       "       -9.99000000e+02, -9.99000000e+02, -9.99000000e+02, -9.99000000e+02,\n",
       "       -9.99000000e+02, -9.99000000e+02, -9.99000000e+02, -9.99000000e+02,\n",
       "       -9.99000000e+02, -9.99000000e+02, -9.99000000e+02, -9.99000000e+02,\n",
       "       -9.99000000e+02, -9.99000000e+02, -9.99000000e+02, -9.99000000e+02,\n",
       "       -9.99000000e+02, -9.99000000e+02, -9.99000000e+02, -9.99000000e+02,\n",
       "       -9.99000000e+02, -9.99000000e+02, -9.99000000e+02, -9.99000000e+02,\n",
       "       -9.99000000e+02, -9.99000000e+02, -9.99000000e+02, -9.99000000e+02,\n",
       "       -9.99000000e+02, -9.99000000e+02, -9.99000000e+02, -9.99000000e+02,\n",
       "       -9.99000000e+02, -9.99000000e+02, -9.99000000e+02, -9.99000000e+02,\n",
       "       -9.99000000e+02, -9.99000000e+02, -9.99000000e+02, -9.99000000e+02,\n",
       "       -9.99000000e+02, -9.99000000e+02, -9.99000000e+02, -9.99000000e+02,\n",
       "       -9.99000000e+02, -9.99000000e+02, -9.99000000e+02, -9.99000000e+02,\n",
       "       -9.99000000e+02, -9.99000000e+02, -9.99000000e+02, -9.99000000e+02,\n",
       "        1.82916313e-01,  1.60781547e-01,  1.05255187e-01,  1.05255187e-01,\n",
       "        4.23341542e-02,  3.76813300e-02,  4.91880663e-02,  1.24699570e-01,\n",
       "        1.64781913e-01,  1.33135363e-01,  1.33135363e-01,  1.08168714e-01,\n",
       "        8.11569095e-02,  1.08500645e-01,  4.72859353e-01,  3.05923857e-02,\n",
       "        1.25313357e-01,  1.53924391e-01,  1.53924391e-01,  5.31283736e-01,\n",
       "        8.84543881e-02,  5.47700524e-01,  5.57659507e-01,  5.92319012e-01,\n",
       "        5.28362393e-01,  5.33412814e-01,  5.33412814e-01,  4.70598787e-01,\n",
       "        4.69049633e-01,  4.24316674e-01,  4.09885734e-01,  3.67895037e-01,\n",
       "        4.02433515e-01,  4.02433515e-01,  4.83714193e-01,  4.83714193e-01,\n",
       "        5.13447225e-01,  5.22405803e-01,  4.64100063e-01,  4.27748770e-01,\n",
       "        5.14167428e-01,  5.14167428e-01,  3.63427758e-01,  3.46169919e-01,\n",
       "        3.69353712e-01,  3.86638314e-01,  4.06605422e-01,  3.94231319e-01,\n",
       "        3.83278638e-01,  3.62684518e-01,  3.62684518e-01,  3.77648860e-01,\n",
       "        3.61138463e-01,  3.38786662e-01,  3.42287481e-01,  3.62882376e-01,\n",
       "        3.62882376e-01,  4.24675375e-01,  4.24675375e-01,  3.15290213e-01,\n",
       "        3.52200896e-01,  3.63446802e-01,  3.16942126e-01,  2.85060704e-01,\n",
       "        2.85060704e-01,  2.78527617e-01,  2.78527617e-01,  2.81661212e-01,\n",
       "        3.16724569e-01,  4.14351791e-01,  4.51491654e-01,  4.52701002e-01,\n",
       "        4.71576631e-01,  5.21007121e-01,  5.21007121e-01,  5.56596458e-01,\n",
       "        5.23306429e-01,  5.04544973e-01,  9.10177678e-02,  1.79151148e-01,\n",
       "        1.50980070e-01,  6.25914156e-01,  6.25914156e-01,  7.01231122e-01,\n",
       "        4.40014601e-01,  1.74808577e-01,  1.11981921e-01,  1.53170466e-01,\n",
       "        2.51376480e-01,  2.96478599e-01,  2.96478599e-01,  2.85119325e-01,\n",
       "        5.25027096e-01,  5.31100214e-01,  6.95630550e-01,  6.75133467e-01,\n",
       "        6.24010265e-01,  3.85365009e-01,  3.85365009e-01,  4.89107698e-01,\n",
       "       -9.99000000e+02, -9.99000000e+02, -9.99000000e+02, -9.99000000e+02,\n",
       "        4.36350077e-01,  4.61719751e-01,  4.61719751e-01,  5.15803814e-01,\n",
       "        2.93512285e-01,  3.79176110e-01,  2.96875000e-01,  2.18599364e-01,\n",
       "        1.37107238e-01,  1.76308334e-01,  1.76308334e-01,  2.22003803e-01,\n",
       "        2.22003803e-01,  2.55365700e-01,  2.06697911e-01,  3.57538015e-01,\n",
       "        4.65913326e-01,  6.36208355e-01,  6.36208355e-01,  4.18498307e-01,\n",
       "        6.22796893e-01,  2.62386680e-01,  5.54524481e-01,  2.15969577e-01,\n",
       "        1.97745666e-01,  1.97745666e-01,  2.39779338e-01,  2.39779338e-01,\n",
       "        2.44934052e-01,  5.95377445e-01,  1.77597508e-01,  5.16884565e-01,\n",
       "        5.16962051e-01,  4.94127244e-01,  5.28997600e-01,  5.28997600e-01,\n",
       "        5.35471499e-01,  5.28257966e-01,  5.03509641e-01,  4.45276201e-01,\n",
       "        1.44696429e-01,  4.49187160e-01,  4.49187160e-01,  4.47561145e-01,\n",
       "        4.52360094e-01,  4.43168312e-01,  4.67964590e-01,  4.70161378e-01,\n",
       "        4.77654994e-01,  4.95455712e-01,  4.95455712e-01,  4.99108642e-01,\n",
       "        5.14503956e-01,  4.84899640e-01,  4.48477030e-01,  4.22869831e-01,\n",
       "        4.43364739e-01,  4.43364739e-01,  4.37807530e-01,  4.37807530e-01,\n",
       "        4.18782830e-01,  4.17915493e-01,  4.11195308e-01,  4.02713418e-01,\n",
       "        3.97847950e-01,  3.61113191e-01,  3.61113191e-01,  3.97975087e-01,\n",
       "        3.89000595e-01,  4.02328163e-01,  3.70880544e-01,  3.61177206e-01,\n",
       "        3.61177206e-01,  3.78398031e-01,  1.62813440e-01,  2.00316384e-01,\n",
       "        5.29058635e-01,  4.37008440e-01,  4.19365644e-01,  4.19365644e-01,\n",
       "        4.47332263e-01,  4.47332263e-01,  4.82665837e-01,  4.87615675e-01,\n",
       "        5.64878941e-01,  5.33175051e-01,  5.33175051e-01,  1.97669700e-01,\n",
       "        1.97669700e-01,  2.25663081e-01,  1.83018073e-01,  1.59071952e-01,\n",
       "        1.71527326e-01,  1.71527326e-01,  2.44555756e-01,  2.44555756e-01,\n",
       "        2.07970470e-01,  2.06936195e-01,  5.49352229e-01,  5.15391290e-01,\n",
       "        5.15391290e-01,  4.82841671e-01,  4.82841671e-01,  4.42425162e-01,\n",
       "        4.90466624e-01,  5.00965655e-01,  5.30993044e-01,  5.30993044e-01,\n",
       "        4.56712157e-01,  4.56712157e-01,  4.11463857e-01,  4.19113636e-01,\n",
       "        4.24668849e-01,  3.98659676e-01,  3.98659676e-01,  4.18610245e-01,\n",
       "        3.93399090e-01,  4.28110868e-01,  3.90126437e-01,  3.93728703e-01,\n",
       "        3.86722118e-01,  3.86722118e-01,  3.88056576e-01,  3.78145874e-01,\n",
       "        3.67541075e-01,  3.56856734e-01,  3.74244511e-01,  3.66905928e-01,\n",
       "        3.66905928e-01,  3.99862349e-01,  3.84228557e-01,  3.76539618e-01,\n",
       "        3.53033155e-01,  3.07228744e-01,  3.07228744e-01,  2.64535695e-01,\n",
       "        2.17655391e-01,  1.90071493e-01,  1.88110054e-01,  1.54250816e-01,\n",
       "        1.54250816e-01,  2.51170509e-02,  2.03061372e-01,  1.74086690e-01,\n",
       "        1.42984375e-01,  1.11950591e-01,  1.11950591e-01,  6.17217913e-04,\n",
       "        1.14425190e-01,  1.03149854e-01,  1.31469309e-01,  1.31798744e-01,\n",
       "        1.21595234e-01,  1.21595234e-01,  1.50112003e-01,  1.51411295e-01,\n",
       "        1.81646794e-01,  2.11135298e-01,  2.11135298e-01,  1.98282469e-02,\n",
       "        3.98275023e-03,  2.10586503e-01,  1.59276258e-02,  1.28729772e-02,\n",
       "        2.92471677e-01,  2.92471677e-01,  2.85220504e-01,  2.33691633e-01,\n",
       "        4.77796979e-03,  2.43760310e-02,  1.47992224e-01,  1.47992224e-01,\n",
       "        7.78566822e-02,  5.36425598e-03,  4.99644643e-03,  7.34243635e-03,\n",
       "        1.40267024e-02,  1.40267024e-02,  1.46153560e-02,  1.72545258e-02,\n",
       "        3.79359275e-02,  5.62391430e-02,  1.06456429e-01,  2.56719202e-01,\n",
       "        2.56719202e-01,  1.38727739e-01,  1.83686674e-01,  1.02613777e-01,\n",
       "        1.24590151e-01,  1.43512070e-01,  1.63106337e-01,  1.63106337e-01,\n",
       "        2.44813815e-01,  2.33939201e-01,  1.39698952e-01,  1.39698952e-01,\n",
       "        7.87211284e-02,  8.61124322e-02,  8.06603655e-02,  8.41569081e-02,\n",
       "        5.53320311e-02,  5.53320311e-02,  8.08856189e-02,  1.03314109e-01,\n",
       "        4.61457521e-01,  4.61457521e-01,  6.19744241e-01,  5.41758299e-01,\n",
       "        5.37162304e-01,  5.37162304e-01,  4.24470156e-01,  4.34649855e-01,\n",
       "        4.34649855e-01,  3.70378196e-01,  4.14233774e-01,  4.37575161e-01,\n",
       "        4.37575161e-01,  3.65430802e-01,  3.52175355e-01,  3.34740222e-01,\n",
       "        3.34740222e-01,  2.85537064e-01,  3.16306353e-01,  3.16306353e-01,\n",
       "        3.71468872e-01,  3.67393374e-01,  3.56687218e-01,  3.56687218e-01,\n",
       "        3.87084782e-01,  3.85561764e-01,  4.22806650e-01,  4.22806650e-01,\n",
       "        4.10048306e-01,  4.10944998e-01,  4.19587344e-01,  4.19587344e-01,\n",
       "        4.27367955e-01,  4.36980605e-01,  4.36980605e-01,  4.47086304e-01,\n",
       "        4.55118388e-01,  4.38100755e-01,  4.38100755e-01,  4.34634268e-01,\n",
       "        4.14008826e-01,  3.91349763e-01,  3.91349763e-01,  3.88145626e-01,\n",
       "        3.65916759e-01,  3.70707452e-01,  3.70707452e-01,  3.74956787e-01,\n",
       "        3.68022621e-01,  3.26170117e-01,  3.26170117e-01,  3.62291068e-01,\n",
       "        3.97134334e-01,  3.87160957e-01,  3.87160957e-01,  3.90464246e-01,\n",
       "        3.81037891e-01,  3.43020052e-01,  3.43020052e-01,  3.19285154e-01,\n",
       "        4.44240905e-02,  3.33552092e-01,  3.33552092e-01,  3.09818417e-01,\n",
       "        2.89938152e-01,  3.12276274e-01,  3.12276274e-01,  3.91663283e-01,\n",
       "        4.13012832e-01,  4.43855584e-01,  4.43855584e-01,  9.56600085e-02,\n",
       "        1.21177159e-01,  1.24032028e-01,  1.24032028e-01,  1.04688406e-01,\n",
       "        1.59512922e-01,  1.51739478e-01,  1.51739478e-01,  1.37485355e-01,\n",
       "        1.12029657e-01,  1.51463389e-01,  1.51463389e-01,  2.16210783e-01,\n",
       "        8.63591433e-02,  2.50404626e-01,  2.50404626e-01,  3.84754032e-01,\n",
       "       -9.99000000e+02, -9.99000000e+02, -9.99000000e+02, -9.99000000e+02,\n",
       "       -9.99000000e+02, -9.99000000e+02, -9.99000000e+02, -9.99000000e+02,\n",
       "       -9.99000000e+02, -9.99000000e+02, -9.99000000e+02, -9.99000000e+02,\n",
       "       -9.99000000e+02, -9.99000000e+02, -9.99000000e+02, -9.99000000e+02,\n",
       "       -9.99000000e+02, -9.99000000e+02, -9.99000000e+02, -9.99000000e+02,\n",
       "       -9.99000000e+02, -9.99000000e+02, -9.99000000e+02, -9.99000000e+02,\n",
       "        5.86147130e-01,  7.22013891e-01,  7.41673768e-01,  7.41673768e-01,\n",
       "        4.40799356e-01,  2.89552689e-01,  4.19279397e-01,  4.19279397e-01,\n",
       "        3.23735774e-01,  3.07484955e-01,  2.60168970e-01,  2.60168970e-01,\n",
       "        2.31240243e-01,  1.58542410e-01,  1.58542410e-01,  1.07587636e-01,\n",
       "        1.18966229e-01,  6.51359260e-02,  6.51359260e-02,  4.82245870e-02,\n",
       "        2.30937228e-02,  2.30937228e-02,  3.16357344e-01,  5.57501279e-02,\n",
       "        5.57501279e-02,  2.20203493e-02,  1.06110116e-02,  2.23336443e-01,\n",
       "        2.23336443e-01,  1.72456816e-01,  2.34267682e-01,  2.88016014e-02,\n",
       "        2.88016014e-02,  2.38891132e-02,  2.61607945e-01,  2.61607945e-01,\n",
       "        2.79469192e-01,  3.01151276e-01,  3.09808195e-01,  3.09808195e-01],\n",
       "      dtype=float32)"
      ]
     },
     "execution_count": 51,
     "metadata": {},
     "output_type": "execute_result"
    }
   ],
   "source": [
    "# get the first line\n",
    "smos_thick[0][0].data"
   ]
  },
  {
   "cell_type": "code",
   "execution_count": 55,
   "metadata": {},
   "outputs": [
    {
     "data": {
      "text/plain": [
       "array(-999., dtype=float32)"
      ]
     },
     "execution_count": 55,
     "metadata": {},
     "output_type": "execute_result"
    }
   ],
   "source": [
    "# get the first element of the first line\n",
    "smos_thick[0][0][0].data # or smos_thick[0][0,0].data"
   ]
  },
  {
   "cell_type": "code",
   "execution_count": null,
   "metadata": {},
   "outputs": [],
   "source": []
  },
  {
   "cell_type": "markdown",
   "metadata": {
    "collapsed": "true"
   },
   "source": [
    "## Access HDF4 remote with Pydap"
   ]
  },
  {
   "cell_type": "code",
   "execution_count": null,
   "metadata": {},
   "outputs": [],
   "source": [
    "import sys\n",
    "from pydap.client import open_url"
   ]
  },
  {
   "cell_type": "code",
   "execution_count": 56,
   "metadata": {},
   "outputs": [],
   "source": [
    "# Open a remote HDF4 file (ie .hdf)\n",
    "dataset_url = 'https://iaos.opendap.terradue.com/thredds/dodsC/AMSR2/asi_daygrid_swath/n6250/2018/dec/Arctic/asi-AMSR2-n6250-20181203-v5.4.hdf'\n",
    "dataset = open_url(dataset_url)"
   ]
  },
  {
   "cell_type": "code",
   "execution_count": 57,
   "metadata": {},
   "outputs": [
    {
     "name": "stdout",
     "output_type": "stream",
     "text": [
      "ASI_Ice_Concentration\n"
     ]
    }
   ],
   "source": [
    "# List keys\n",
    "keys = list(dataset.keys())\n",
    "for key in keys:\n",
    "    print(key)"
   ]
  },
  {
   "cell_type": "code",
   "execution_count": 62,
   "metadata": {},
   "outputs": [
    {
     "name": "stdout",
     "output_type": "stream",
     "text": [
      "('fakeDim0', 'fakeDim1')\n",
      "(1792, 1216)\n",
      "<class 'pydap.model.BaseType'>\n"
     ]
    }
   ],
   "source": [
    "# Read the variable\n",
    "asi_ice_conc = dataset['ASI_Ice_Concentration']\n",
    "\n",
    "# Print arrays dimensions and shape\n",
    "print(asi_ice_conc.dimensions)\n",
    "print(asi_ice_conc.shape)\n",
    "print(type(asi_ice_conc))"
   ]
  },
  {
   "cell_type": "code",
   "execution_count": 63,
   "metadata": {},
   "outputs": [
    {
     "name": "stdout",
     "output_type": "stream",
     "text": [
      "{'grid_information': 'longitude-latitude grid for these data to be found at: '\n",
      "                     'https://seaice.uni-bremen.de/data/grid_coordinates/n6250/',\n",
      " 'long_name': 'ASI Ice Concentration, Version: 5.4, 20181203, res: 6.25000, '\n",
      "              'AMSR2, Region: Arctic',\n",
      " 'valid_range': [0.0, 100.0]}\n"
     ]
    }
   ],
   "source": [
    "# print attributes\n",
    "import pprint\n",
    "pprint.pprint(asi_ice_conc.attributes)"
   ]
  },
  {
   "cell_type": "code",
   "execution_count": 65,
   "metadata": {},
   "outputs": [
    {
     "data": {
      "text/plain": [
       "array([[nan, nan, nan, ...,  0.,  0.,  0.],\n",
       "       [nan, nan, nan, ...,  0.,  0.,  0.],\n",
       "       [nan, nan, nan, ...,  0.,  0.,  0.],\n",
       "       ...,\n",
       "       [nan, nan, nan, ...,  0.,  0.,  0.],\n",
       "       [nan, nan, nan, ...,  0.,  0.,  0.],\n",
       "       [nan, nan, nan, ...,  0.,  0.,  0.]], dtype=float32)"
      ]
     },
     "execution_count": 65,
     "metadata": {},
     "output_type": "execute_result"
    }
   ],
   "source": [
    "# show data\n",
    "asi_ice_conc[0:10][0:10].data"
   ]
  },
  {
   "cell_type": "code",
   "execution_count": null,
   "metadata": {},
   "outputs": [],
   "source": []
  },
  {
   "cell_type": "markdown",
   "metadata": {
    "collapsed": "true"
   },
   "source": [
    "## Field and Index subsetting"
   ]
  },
  {
   "cell_type": "code",
   "execution_count": 67,
   "metadata": {},
   "outputs": [],
   "source": [
    "import sys\n",
    "from pydap.client import open_url\n",
    "\n",
    "# Open remote file\n",
    "dataset_url = 'https://iaos.opendap.terradue.com/thredds/dodsC/SMOS_SMAP/netCDF/north/2018/20181007_north_mix_sit_v100.nc'\n",
    "dataset = open_url(dataset_url)"
   ]
  },
  {
   "cell_type": "code",
   "execution_count": 71,
   "metadata": {},
   "outputs": [
    {
     "data": {
      "text/plain": [
       "['smos_thickness',\n",
       " 'smos_thickness_unc',\n",
       " 'smap_thickness',\n",
       " 'smap_thickness_unc',\n",
       " 'combined_thickness',\n",
       " 'combined_thickness_unc',\n",
       " 'flags']"
      ]
     },
     "execution_count": 71,
     "metadata": {},
     "output_type": "execute_result"
    }
   ],
   "source": [
    "list(dataset.keys())"
   ]
  },
  {
   "cell_type": "code",
   "execution_count": 72,
   "metadata": {},
   "outputs": [
    {
     "name": "stdout",
     "output_type": "stream",
     "text": [
      "('Dataset {\\n'\n",
      " '    Float32 smos_thickness[X = 896][Y = 608];\\n'\n",
      " '    Float32 smos_thickness_unc[X = 896][Y = 608];\\n'\n",
      " '    Float32 smap_thickness[X = 896][Y = 608];\\n'\n",
      " '    Float32 smap_thickness_unc[X = 896][Y = 608];\\n'\n",
      " '    Float32 combined_thickness[X = 896][Y = 608];\\n'\n",
      " '    Float32 combined_thickness_unc[X = 896][Y = 608];\\n'\n",
      " '    Byte flags[X = 896][Y = 608];\\n'\n",
      " '} SMOS_SMAP/netCDF/north/2018/20181007_north_mix_sit_v100.nc;\\n')\n"
     ]
    }
   ],
   "source": [
    "# To get the raw metadata for the dataset, using a simple http request, appending the suffix .dds (DAP2):\n",
    "import requests\n",
    "import pprint\n",
    "\n",
    "r = requests.get(dataset_url + '.dds')\n",
    "pprint.pprint(r.text)"
   ]
  },
  {
   "cell_type": "markdown",
   "metadata": {},
   "source": [
    "### Field Subsetting"
   ]
  },
  {
   "cell_type": "code",
   "execution_count": 74,
   "metadata": {},
   "outputs": [
    {
     "data": {
      "text/plain": [
       "<BaseType with data BaseProxy('https://iaos.opendap.terradue.com/thredds/dodsC/SMOS_SMAP/netCDF/north/2018/20181007_north_mix_sit_v100.nc', 'smos_thickness', dtype('>f4'), (896, 608), (slice(None, None, None), slice(None, None, None)))>"
      ]
     },
     "execution_count": 74,
     "metadata": {},
     "output_type": "execute_result"
    }
   ],
   "source": [
    "# Select using a field (eg smos_thickness)\n",
    "dataset['smos_thickness'] # or dataset.smos_thickness, it's the same"
   ]
  },
  {
   "cell_type": "code",
   "execution_count": 76,
   "metadata": {},
   "outputs": [
    {
     "name": "stdout",
     "output_type": "stream",
     "text": [
      "('Dataset {\\n'\n",
      " '    Float32 smos_thickness[X = 896][Y = 608];\\n'\n",
      " '} SMOS_SMAP/netCDF/north/2018/20181007_north_mix_sit_v100.nc;\\n')\n"
     ]
    }
   ],
   "source": [
    "# to select with the same field but with raw metadata in DAP2 format\n",
    "r = requests.get(dataset_url + '.dds' + '?smos_thickness')\n",
    "pprint.pprint(r.text)"
   ]
  },
  {
   "cell_type": "code",
   "execution_count": null,
   "metadata": {},
   "outputs": [],
   "source": []
  },
  {
   "cell_type": "markdown",
   "metadata": {},
   "source": [
    "### Index Subsetting"
   ]
  },
  {
   "cell_type": "code",
   "execution_count": 78,
   "metadata": {},
   "outputs": [
    {
     "data": {
      "text/plain": [
       "(896, 608)"
      ]
     },
     "execution_count": 78,
     "metadata": {},
     "output_type": "execute_result"
    }
   ],
   "source": [
    "# Select just a variable using field subsetting first\n",
    "smos_thickness = dataset['smos_thickness']\n",
    "smos_thickness.shape"
   ]
  },
  {
   "cell_type": "code",
   "execution_count": 82,
   "metadata": {},
   "outputs": [
    {
     "data": {
      "text/plain": [
       "array([[-9.9900000e+02, -9.9900000e+02, -9.9900000e+02, ...,\n",
       "         3.0115128e-01,  3.0980819e-01,  3.0980819e-01],\n",
       "       [-9.9900000e+02, -9.9900000e+02, -9.9900000e+02, ...,\n",
       "         1.0556738e-01,  1.4467032e-01,  1.4467032e-01],\n",
       "       [-9.9900000e+02, -9.9900000e+02, -9.9900000e+02, ...,\n",
       "         1.0556738e-01,  3.7567174e-01,  3.0476522e-01],\n",
       "       ...,\n",
       "       [-9.9900000e+02, -9.9900000e+02, -9.9900000e+02, ...,\n",
       "        -9.9900000e+02, -9.9900000e+02, -9.9900000e+02],\n",
       "       [-9.9900000e+02, -9.9900000e+02, -9.9900000e+02, ...,\n",
       "        -9.9900000e+02, -9.9900000e+02, -9.9900000e+02],\n",
       "       [-9.9900000e+02, -9.9900000e+02, -9.9900000e+02, ...,\n",
       "        -9.9900000e+02, -9.9900000e+02, -9.9900000e+02]], dtype=float32)"
      ]
     },
     "execution_count": 82,
     "metadata": {},
     "output_type": "execute_result"
    }
   ],
   "source": [
    "# This downloads all the variable's values\n",
    "smos_thickness.data[:]"
   ]
  },
  {
   "cell_type": "code",
   "execution_count": 83,
   "metadata": {},
   "outputs": [
    {
     "data": {
      "text/plain": [
       "array([[0.18291631]], dtype=float32)"
      ]
     },
     "execution_count": 83,
     "metadata": {},
     "output_type": "execute_result"
    }
   ],
   "source": [
    "# We download only the 149th element of the 1st dimension\n",
    "smos_thickness[0,148].data"
   ]
  },
  {
   "cell_type": "code",
   "execution_count": 87,
   "metadata": {},
   "outputs": [
    {
     "data": {
      "text/plain": [
       "array([[-9.9900000e+02, -9.9900000e+02, -9.9900000e+02, -9.9900000e+02,\n",
       "        -9.9900000e+02, -9.9900000e+02, -9.9900000e+02, -9.9900000e+02,\n",
       "         1.8291631e-01,  1.6078155e-01]], dtype=float32)"
      ]
     },
     "execution_count": 87,
     "metadata": {},
     "output_type": "execute_result"
    }
   ],
   "source": [
    "# We download only a subset of the 1st dimension\n",
    "smos_thickness[0,140:150].data"
   ]
  },
  {
   "cell_type": "code",
   "execution_count": 90,
   "metadata": {},
   "outputs": [
    {
     "name": "stdout",
     "output_type": "stream",
     "text": [
      "<class 'pydap.model.BaseType'>\n",
      "<class 'numpy.ndarray'>\n"
     ]
    }
   ],
   "source": [
    "# Note that the type of the object without using '.data' is a special object which behaves like an array and acts as a proxy to a remote dataset.\n",
    "print(type(smos_thickness[0,140:150]))\n",
    "\n",
    "# to get the data as array you need to use the '.data'\n",
    "print(type(smos_thickness[0,140:150].data))"
   ]
  },
  {
   "cell_type": "code",
   "execution_count": null,
   "metadata": {},
   "outputs": [],
   "source": []
  },
  {
   "cell_type": "markdown",
   "metadata": {
    "collapsed": "true"
   },
   "source": [
    "## Filtering a Sequence Data Type\n",
    "* NB: filter expressions can only be applied to Sequence variables (or arrays of them)\n",
    "* Example of Sequence: http://test.opendap.org/dap/data/ff/gsodock.dat.ascii. This is a 24-hour record of measurements at a weather station on a dock in Rhode Island. Each record consists of a dozen different variables including air temperature, wind speed, and direction, as well as depth, temperature and salinity of the water. The data is arranged into 144 measurements of each of the twelve variables."
   ]
  },
  {
   "cell_type": "code",
   "execution_count": 92,
   "metadata": {},
   "outputs": [
    {
     "name": "stdout",
     "output_type": "stream",
     "text": [
      "<class 'pydap.model.DatasetType'>\n"
     ]
    }
   ],
   "source": [
    "from pydap.client import open_url\n",
    "dataset = open_url('http://test.opendap.org/dap/data/ff/gsodock.dat')\n",
    "print(type(dataset))"
   ]
  },
  {
   "cell_type": "code",
   "execution_count": 93,
   "metadata": {},
   "outputs": [
    {
     "data": {
      "text/plain": [
       "['URI_GSO-Dock']"
      ]
     },
     "execution_count": 93,
     "metadata": {},
     "output_type": "execute_result"
    }
   ],
   "source": [
    "list(dataset.keys())"
   ]
  },
  {
   "cell_type": "code",
   "execution_count": 97,
   "metadata": {},
   "outputs": [
    {
     "name": "stdout",
     "output_type": "stream",
     "text": [
      "<class 'pydap.model.SequenceType'>\n"
     ]
    }
   ],
   "source": [
    "# Get the data and notice is of a Sequence Type\n",
    "uri_gso_dock = dataset['URI_GSO-Dock']\n",
    "print(type(uri_gso_dock))"
   ]
  },
  {
   "cell_type": "code",
   "execution_count": 98,
   "metadata": {},
   "outputs": [
    {
     "data": {
      "text/plain": [
       "['Time',\n",
       " 'Depth',\n",
       " 'Sea_Temp',\n",
       " 'Salinity',\n",
       " 'DO_percent',\n",
       " 'pH',\n",
       " 'Turbidity',\n",
       " 'Air_Temp',\n",
       " 'Wind_Speed',\n",
       " 'Wind_Direction',\n",
       " 'Barometric_Pres',\n",
       " 'Solar_Radiation']"
      ]
     },
     "execution_count": 98,
     "metadata": {},
     "output_type": "execute_result"
    }
   ],
   "source": [
    "# list the variables of the uri_gso_dock Sequence\n",
    "list(uri_gso_dock.keys())"
   ]
  },
  {
   "cell_type": "code",
   "execution_count": 114,
   "metadata": {},
   "outputs": [
    {
     "name": "stdout",
     "output_type": "stream",
     "text": [
      "0 29.12\n",
      "1 29.12\n",
      "2 29.12\n",
      "3 29.12\n",
      "4 29.12\n",
      "5 29.12\n",
      "6 29.13\n",
      "7 29.13\n",
      "8 29.16\n",
      "9 29.17\n",
      "10 29.16\n",
      "11 29.2\n",
      "12 29.27\n",
      "13 29.34\n",
      "14 29.47\n",
      "15 29.77\n",
      "16 29.72\n",
      "17 29.79\n",
      "18 29.82\n",
      "19 29.86\n",
      "20 29.6\n",
      "21 29.21\n"
     ]
    }
   ],
   "source": [
    "# Filter a variable with an expression on other variables\n",
    "filtered_data = uri_gso_dock['Salinity'][(uri_gso_dock.Depth > 2) & (uri_gso_dock.Time>35234.5)]\n",
    "\n",
    "for i, salinity in enumerate(filtered_data.iterdata()):\n",
    "    print(i,salinity)"
   ]
  },
  {
   "cell_type": "code",
   "execution_count": null,
   "metadata": {},
   "outputs": [],
   "source": []
  },
  {
   "cell_type": "markdown",
   "metadata": {},
   "source": [
    "## Pydap-Hyrax Geogrid()\n",
    "The geogrid() function applies a constraint given in lat and long to a DAP Grid variable. The function returns a single Grid variable whose values completely cover the given region."
   ]
  },
  {
   "cell_type": "code",
   "execution_count": 116,
   "metadata": {},
   "outputs": [],
   "source": [
    "from pydap.client import open_url\n",
    "import requests"
   ]
  },
  {
   "cell_type": "markdown",
   "metadata": {},
   "source": [
    "### Nominal Test\n",
    "Using the example https://www.pydap.org/en/latest/client.html#calling-server-side-functions"
   ]
  },
  {
   "cell_type": "code",
   "execution_count": 120,
   "metadata": {},
   "outputs": [
    {
     "name": "stdout",
     "output_type": "stream",
     "text": [
      "<class 'pydap.model.DatasetType'>\n"
     ]
    }
   ],
   "source": [
    "url = 'https://hyrax.terradue.com/opendap/data/sample/nc/coads_climatology.nc'\n",
    "dataset = open_url(url)\n",
    "print(type(dataset))"
   ]
  },
  {
   "cell_type": "code",
   "execution_count": 119,
   "metadata": {},
   "outputs": [
    {
     "data": {
      "text/plain": [
       "['COADSX', 'COADSY', 'TIME', 'SST', 'AIRT', 'UWND', 'VWND']"
      ]
     },
     "execution_count": 119,
     "metadata": {},
     "output_type": "execute_result"
    }
   ],
   "source": [
    "list(dataset.keys())"
   ]
  },
  {
   "cell_type": "markdown",
   "metadata": {},
   "source": [
    "Analysis of DDS and DAS\n",
    "* The Dataset Descriptor Structure (DDS) describes the data set's structure and the relationships between its variables\n",
    "* The Dataset Attribute Structure (DAS) provides information about the variables themselves"
   ]
  },
  {
   "cell_type": "code",
   "execution_count": 123,
   "metadata": {},
   "outputs": [
    {
     "name": "stdout",
     "output_type": "stream",
     "text": [
      "Dataset {\n",
      "    Float64 COADSX[COADSX = 180];\n",
      "    Float64 COADSY[COADSY = 90];\n",
      "    Float64 TIME[TIME = 12];\n",
      "    Grid {\n",
      "      Array:\n",
      "        Float32 SST[TIME = 12][COADSY = 90][COADSX = 180];\n",
      "      Maps:\n",
      "        Float64 TIME[TIME = 12];\n",
      "        Float64 COADSY[COADSY = 90];\n",
      "        Float64 COADSX[COADSX = 180];\n",
      "    } SST;\n",
      "    Grid {\n",
      "      Array:\n",
      "        Float32 AIRT[TIME = 12][COADSY = 90][COADSX = 180];\n",
      "      Maps:\n",
      "        Float64 TIME[TIME = 12];\n",
      "        Float64 COADSY[COADSY = 90];\n",
      "        Float64 COADSX[COADSX = 180];\n",
      "    } AIRT;\n",
      "    Grid {\n",
      "      Array:\n",
      "        Float32 UWND[TIME = 12][COADSY = 90][COADSX = 180];\n",
      "      Maps:\n",
      "        Float64 TIME[TIME = 12];\n",
      "        Float64 COADSY[COADSY = 90];\n",
      "        Float64 COADSX[COADSX = 180];\n",
      "    } UWND;\n",
      "    Grid {\n",
      "      Array:\n",
      "        Float32 VWND[TIME = 12][COADSY = 90][COADSX = 180];\n",
      "      Maps:\n",
      "        Float64 TIME[TIME = 12];\n",
      "        Float64 COADSY[COADSY = 90];\n",
      "        Float64 COADSX[COADSX = 180];\n",
      "    } VWND;\n",
      "} coads_climatology.nc;\n",
      "\n"
     ]
    }
   ],
   "source": [
    "# The Dataset Descriptor Structure (DDS) describes the dataset structure and the relationships between its variables\n",
    "r = requests.get(url + '.dds')\n",
    "print(r.text)"
   ]
  },
  {
   "cell_type": "code",
   "execution_count": 124,
   "metadata": {},
   "outputs": [
    {
     "name": "stdout",
     "output_type": "stream",
     "text": [
      "Attributes {\n",
      "    COADSX {\n",
      "        String units \"degrees_east\";\n",
      "        String modulo \" \";\n",
      "        String point_spacing \"even\";\n",
      "    }\n",
      "    COADSY {\n",
      "        String units \"degrees_north\";\n",
      "        String point_spacing \"even\";\n",
      "    }\n",
      "    TIME {\n",
      "        String units \"hour since 0000-01-01 00:00:00\";\n",
      "        String time_origin \"1-JAN-0000 00:00:00\";\n",
      "        String modulo \" \";\n",
      "    }\n",
      "    SST {\n",
      "        Float32 missing_value -9.99999979e+33;\n",
      "        Float32 _FillValue -9.99999979e+33;\n",
      "        String long_name \"SEA SURFACE TEMPERATURE\";\n",
      "        String history \"From coads_climatology\";\n",
      "        String units \"Deg C\";\n",
      "    }\n",
      "    AIRT {\n",
      "        Float32 missing_value -9.99999979e+33;\n",
      "        Float32 _FillValue -9.99999979e+33;\n",
      "        String long_name \"AIR TEMPERATURE\";\n",
      "        String history \"From coads_climatology\";\n",
      "        String units \"DEG C\";\n",
      "    }\n",
      "    UWND {\n",
      "        Float32 missing_value -9.99999979e+33;\n",
      "        Float32 _FillValue -9.99999979e+33;\n",
      "        String long_name \"ZONAL WIND\";\n",
      "        String history \"From coads_climatology\";\n",
      "        String units \"M/S\";\n",
      "    }\n",
      "    VWND {\n",
      "        Float32 missing_value -9.99999979e+33;\n",
      "        Float32 _FillValue -9.99999979e+33;\n",
      "        String long_name \"MERIDIONAL WIND\";\n",
      "        String history \"From coads_climatology\";\n",
      "        String units \"M/S\";\n",
      "    }\n",
      "    NC_GLOBAL {\n",
      "        String history \"FERRET V4.30 (debug/no GUI) 15-Aug-96\";\n",
      "    }\n",
      "    DODS_EXTRA {\n",
      "        String Unlimited_Dimension \"TIME\";\n",
      "    }\n",
      "}\n",
      "\n"
     ]
    }
   ],
   "source": [
    "# The Dataset Attribute Structure (DAS) provides information about the variables themselves\n",
    "r = requests.get(url + '.das')\n",
    "print(r.text)"
   ]
  },
  {
   "cell_type": "code",
   "execution_count": 129,
   "metadata": {},
   "outputs": [
    {
     "data": {
      "text/plain": [
       "(12, 90, 180)"
      ]
     },
     "execution_count": 129,
     "metadata": {},
     "output_type": "execute_result"
    }
   ],
   "source": [
    "coads_climatology = open_url(url)\n",
    "coads_climatology.SST.shape"
   ]
  },
  {
   "cell_type": "code",
   "execution_count": 159,
   "metadata": {},
   "outputs": [
    {
     "name": "stdout",
     "output_type": "stream",
     "text": [
      "shape: (12, 12, 21)\n"
     ]
    },
    {
     "data": {
      "text/plain": [
       "KeysView(<GridType with array 'SST' and maps 'TIME', 'COADSY', 'COADSX'>)"
      ]
     },
     "execution_count": 159,
     "metadata": {},
     "output_type": "execute_result"
    }
   ],
   "source": [
    "# Apply geogrid for a spatial query\n",
    "coads_climatology_sst = coads_climatology.functions.geogrid(coads_climatology.SST, 10, 20, -10, 60)\n",
    "print('shape:',coads_climatology_sst.SST.shape)\n",
    "coads_climatology_sst.SST.keys()"
   ]
  },
  {
   "cell_type": "code",
   "execution_count": 142,
   "metadata": {},
   "outputs": [
    {
     "data": {
      "text/plain": [
       "<BaseType with data array([ 366.   , 1096.485, 1826.97 , 2557.455, 3287.94 , 4018.425,\n",
       "       4748.91 , 5479.395, 6209.88 , 6940.365, 7670.85 , 8401.335])>"
      ]
     },
     "execution_count": 142,
     "metadata": {},
     "output_type": "execute_result"
    }
   ],
   "source": [
    "coads_climatology_sst.SST.TIME[:]"
   ]
  },
  {
   "cell_type": "code",
   "execution_count": 138,
   "metadata": {},
   "outputs": [
    {
     "data": {
      "text/plain": [
       "<BaseType with data array([ 11.,   9.,   7.,   5.,   3.,   1.,  -1.,  -3.,  -5.,  -7.,  -9.,\n",
       "       -11.])>"
      ]
     },
     "execution_count": 138,
     "metadata": {},
     "output_type": "execute_result"
    }
   ],
   "source": [
    "coads_climatology_sst.SST.COADSY[:]"
   ]
  },
  {
   "cell_type": "code",
   "execution_count": 139,
   "metadata": {},
   "outputs": [
    {
     "data": {
      "text/plain": [
       "<BaseType with data array([21., 23., 25., 27., 29., 31., 33., 35., 37., 39., 41., 43., 45.,\n",
       "       47., 49., 51., 53., 55., 57., 59., 61.])>"
      ]
     },
     "execution_count": 139,
     "metadata": {},
     "output_type": "execute_result"
    }
   ],
   "source": [
    "coads_climatology_sst.SST.COADSX[:]"
   ]
  },
  {
   "cell_type": "code",
   "execution_count": 143,
   "metadata": {},
   "outputs": [
    {
     "data": {
      "text/plain": [
       "<BaseType with data array([ 21.,  23.,  25.,  27.,  29.,  31.,  33.,  35.,  37.,  39.,  41.,\n",
       "        43.,  45.,  47.,  49.,  51.,  53.,  55.,  57.,  59.,  61.,  63.,\n",
       "        65.,  67.,  69.,  71.,  73.,  75.,  77.,  79.,  81.,  83.,  85.,\n",
       "        87.,  89.,  91.,  93.,  95.,  97.,  99., 101., 103., 105., 107.,\n",
       "       109., 111., 113., 115., 117., 119., 121., 123., 125., 127., 129.,\n",
       "       131., 133., 135., 137., 139., 141., 143., 145., 147., 149., 151.,\n",
       "       153., 155., 157., 159., 161., 163., 165., 167., 169., 171., 173.,\n",
       "       175., 177., 179., 181., 183., 185., 187., 189., 191., 193., 195.,\n",
       "       197., 199., 201., 203., 205., 207., 209., 211., 213., 215., 217.,\n",
       "       219., 221., 223., 225., 227., 229., 231., 233., 235., 237., 239.,\n",
       "       241., 243., 245., 247., 249., 251., 253., 255., 257., 259., 261.,\n",
       "       263., 265., 267., 269., 271., 273., 275., 277., 279., 281., 283.,\n",
       "       285., 287., 289., 291., 293., 295., 297., 299., 301., 303., 305.,\n",
       "       307., 309., 311., 313., 315., 317., 319., 321., 323., 325., 327.,\n",
       "       329., 331., 333., 335., 337., 339., 341., 343., 345., 347., 349.,\n",
       "       351., 353., 355., 357., 359., 361., 363., 365., 367., 369., 371.,\n",
       "       373., 375., 377., 379.])>"
      ]
     },
     "execution_count": 143,
     "metadata": {},
     "output_type": "execute_result"
    }
   ],
   "source": [
    "coads_climatology.COADSX[:]"
   ]
  },
  {
   "cell_type": "markdown",
   "metadata": {},
   "source": [
    "### Sea Ice Concentration product test"
   ]
  },
  {
   "cell_type": "code",
   "execution_count": 144,
   "metadata": {},
   "outputs": [
    {
     "name": "stdout",
     "output_type": "stream",
     "text": [
      "Dataset {\n",
      "    String polar_stereographic;\n",
      "    Float64 x[x = 1216];\n",
      "    Float64 y[y = 1792];\n",
      "    Grid {\n",
      "      Array:\n",
      "        Float32 z[y = 1792][x = 1216];\n",
      "      Maps:\n",
      "        Float64 y[y = 1792];\n",
      "        Float64 x[x = 1216];\n",
      "    } z;\n",
      "} asi-AMSR2-n6250-20190101-v5.4.nc;\n",
      "\n"
     ]
    }
   ],
   "source": [
    "url = 'https://hyrax.terradue.com/opendap/data/amsr2/n6250/netcdf/2019/asi-AMSR2-n6250-20190101-v5.4.nc'\n",
    "r = requests.get(url + '.dds')\n",
    "print(r.text)"
   ]
  },
  {
   "cell_type": "code",
   "execution_count": 145,
   "metadata": {},
   "outputs": [
    {
     "name": "stdout",
     "output_type": "stream",
     "text": [
      "Attributes {\n",
      "    polar_stereographic {\n",
      "        String grid_mapping_name \"polar_stereographic\";\n",
      "        Float64 straight_vertical_longitude_from_pole -45.00000000000000;\n",
      "        Float64 false_easting 0.000000000000000;\n",
      "        Float64 false_northing 0.000000000000000;\n",
      "        Float64 latitude_of_projection_origin 90.00000000000000;\n",
      "        Float64 standard_parallel 70.00000000000000;\n",
      "        String long_name \"CRS definition\";\n",
      "        Float64 longitude_of_prime_meridian 0.000000000000000;\n",
      "        Float64 semi_major_axis 6378273.000000000;\n",
      "        Float64 inverse_flattening 298.2794111230640;\n",
      "        String spatial_ref \"PROJCS[\\\"NSIDC Sea Ice Polar Stereographic North\\\",GEOGCS[\\\"Unspecified datum based upon the Hughes 1980 ellipsoid\\\",DATUM[\\\"Not_specified_based_on_Hughes_1980_ellipsoid\\\",SPHEROID[\\\"Hughes 1980\\\",6378273,298.279411123064,AUTHORITY[\\\"EPSG\\\",\\\"7058\\\"]],AUTHORITY[\\\"EPSG\\\",\\\"6054\\\"]],PRIMEM[\\\"Greenwich\\\",0,AUTHORITY[\\\"EPSG\\\",\\\"8901\\\"]],UNIT[\\\"degree\\\",0.0174532925199433,AUTHORITY[\\\"EPSG\\\",\\\"9122\\\"]],AUTHORITY[\\\"EPSG\\\",\\\"4054\\\"]],PROJECTION[\\\"Polar_Stereographic\\\"],PARAMETER[\\\"latitude_of_origin\\\",70],PARAMETER[\\\"central_meridian\\\",-45],PARAMETER[\\\"scale_factor\\\",1],PARAMETER[\\\"false_easting\\\",0],PARAMETER[\\\"false_northing\\\",0],UNIT[\\\"metre\\\",1,AUTHORITY[\\\"EPSG\\\",\\\"9001\\\"]],AXIS[\\\"X\\\",EAST],AXIS[\\\"Y\\\",NORTH],AUTHORITY[\\\"EPSG\\\",\\\"3411\\\"]]\";\n",
      "        String GeoTransform \"-3850000 6250 0 5850000 0 -6250 \";\n",
      "        Int32 string_length 1;\n",
      "    }\n",
      "    x {\n",
      "        String standard_name \"projection_x_coordinate\";\n",
      "        String long_name \"x coordinate of projection\";\n",
      "        String units \"m\";\n",
      "    }\n",
      "    y {\n",
      "        String standard_name \"projection_y_coordinate\";\n",
      "        String long_name \"y coordinate of projection\";\n",
      "        String units \"m\";\n",
      "    }\n",
      "    z {\n",
      "        String long_name \"z\";\n",
      "        Float32 _FillValue NaN;\n",
      "        Int32 actual_range 0, 100;\n",
      "        String grid_mapping \"polar_stereographic\";\n",
      "    }\n",
      "    NC_GLOBAL {\n",
      "        String author \"University of Bremen, Gunnar Spreen [gunnar.spreen@uni-bremen.de], Christian Melsheimer [melsheim@uni-bremen.de]\";\n",
      "        String Conventions \"CF-1.5\";\n",
      "        String GMT_version \"5.2.1 (r15220) [64-bit] [MP]\";\n",
      "        String history \"Mon Jan 21 19:42:34 2019: GDAL CreateCopy( /ssmi/www/htdocs/data/amsr2/asi_daygrid_swath/n6250/netcdf/2019/asi-AMSR2-n6250-20190101-v5.4.nc, ... )\\012grdmath ../2019/jan/Arctic/asi-AMSR2-n6250-20190101-v5.4.hdf FLIPUD = tmp1.nc\";\n",
      "        String info \"AMSR2 sea ice concentration based on the ASI algorithm (Spreen et al., 2008).\";\n",
      "        String title \"Produced by grdmath\";\n",
      "        String GDAL \"GDAL 2.1.3, released 2017/20/01\";\n",
      "    }\n",
      "}\n",
      "\n"
     ]
    }
   ],
   "source": [
    "r = requests.get(url + '.das')\n",
    "print(r.text)"
   ]
  },
  {
   "cell_type": "code",
   "execution_count": 146,
   "metadata": {},
   "outputs": [
    {
     "data": {
      "text/plain": [
       "<DatasetType with children 'polar_stereographic', 'x', 'y', 'z'>"
      ]
     },
     "execution_count": 146,
     "metadata": {},
     "output_type": "execute_result"
    }
   ],
   "source": [
    "amsr2 = open_url(url)\n",
    "amsr2"
   ]
  },
  {
   "cell_type": "code",
   "execution_count": 148,
   "metadata": {},
   "outputs": [
    {
     "data": {
      "text/plain": [
       "(1792, 1216)"
      ]
     },
     "execution_count": 148,
     "metadata": {},
     "output_type": "execute_result"
    }
   ],
   "source": [
    "amsr2.z.shape"
   ]
  },
  {
   "cell_type": "code",
   "execution_count": 155,
   "metadata": {},
   "outputs": [
    {
     "data": {
      "text/plain": [
       "<BaseType with data array([-3846875.])>"
      ]
     },
     "execution_count": 155,
     "metadata": {},
     "output_type": "execute_result"
    }
   ],
   "source": [
    "amsr2['z.x'][0]"
   ]
  },
  {
   "cell_type": "code",
   "execution_count": 158,
   "metadata": {},
   "outputs": [
    {
     "ename": "HTTPError",
     "evalue": "500 Internal Server Error\nError { \r\n    code = 500;\r\n    message = \"libdap error transmitting DataDDS: The grid 'z' does not have identifiable latitude/longitude map vectors.\";\r\n}\r\n",
     "output_type": "error",
     "traceback": [
      "\u001b[0;31m---------------------------------------------------------------------------\u001b[0m",
      "\u001b[0;31mHTTPError\u001b[0m                                 Traceback (most recent call last)",
      "\u001b[0;32m<ipython-input-158-ee859cee15a0>\u001b[0m in \u001b[0;36m<module>\u001b[0;34m\u001b[0m\n\u001b[1;32m      1\u001b[0m \u001b[0;31m# This won't work because the z Grid variable doesnt have lat and long map vectors\u001b[0m\u001b[0;34m\u001b[0m\u001b[0;34m\u001b[0m\u001b[0;34m\u001b[0m\u001b[0m\n\u001b[1;32m      2\u001b[0m \u001b[0mamsr2_z\u001b[0m \u001b[0;34m=\u001b[0m \u001b[0mamsr2\u001b[0m\u001b[0;34m.\u001b[0m\u001b[0mfunctions\u001b[0m\u001b[0;34m.\u001b[0m\u001b[0mgeogrid\u001b[0m\u001b[0;34m(\u001b[0m\u001b[0mamsr2\u001b[0m\u001b[0;34m.\u001b[0m\u001b[0mz\u001b[0m\u001b[0;34m,\u001b[0m \u001b[0mamsr2\u001b[0m\u001b[0;34m.\u001b[0m\u001b[0my\u001b[0m\u001b[0;34m,\u001b[0m \u001b[0mamsr2\u001b[0m\u001b[0;34m.\u001b[0m\u001b[0mx\u001b[0m\u001b[0;34m,\u001b[0m \u001b[0;36m10\u001b[0m\u001b[0;34m,\u001b[0m \u001b[0;36m20\u001b[0m\u001b[0;34m,\u001b[0m \u001b[0;34m-\u001b[0m\u001b[0;36m10\u001b[0m\u001b[0;34m,\u001b[0m \u001b[0;36m60\u001b[0m\u001b[0;34m)\u001b[0m\u001b[0;34m\u001b[0m\u001b[0;34m\u001b[0m\u001b[0m\n\u001b[0;32m----> 3\u001b[0;31m \u001b[0mamsr2_z\u001b[0m\u001b[0;34m.\u001b[0m\u001b[0mz\u001b[0m\u001b[0;34m\u001b[0m\u001b[0;34m\u001b[0m\u001b[0m\n\u001b[0m",
      "\u001b[0;32m/srv/conda/envs/env_vi/lib/python3.7/site-packages/pydap/client.py\u001b[0m in \u001b[0;36m__getattr__\u001b[0;34m(self, name)\u001b[0m\n\u001b[1;32m    192\u001b[0m \u001b[0;34m\u001b[0m\u001b[0m\n\u001b[1;32m    193\u001b[0m     \u001b[0;32mdef\u001b[0m \u001b[0m__getattr__\u001b[0m\u001b[0;34m(\u001b[0m\u001b[0mself\u001b[0m\u001b[0;34m,\u001b[0m \u001b[0mname\u001b[0m\u001b[0;34m)\u001b[0m\u001b[0;34m:\u001b[0m\u001b[0;34m\u001b[0m\u001b[0;34m\u001b[0m\u001b[0m\n\u001b[0;32m--> 194\u001b[0;31m         \u001b[0;32mreturn\u001b[0m \u001b[0mself\u001b[0m\u001b[0;34m[\u001b[0m\u001b[0mname\u001b[0m\u001b[0;34m]\u001b[0m\u001b[0;34m\u001b[0m\u001b[0;34m\u001b[0m\u001b[0m\n\u001b[0m",
      "\u001b[0;32m/srv/conda/envs/env_vi/lib/python3.7/site-packages/pydap/client.py\u001b[0m in \u001b[0;36m__getitem__\u001b[0;34m(self, key)\u001b[0m\n\u001b[1;32m    188\u001b[0m         \u001b[0;32mif\u001b[0m \u001b[0mself\u001b[0m\u001b[0;34m.\u001b[0m\u001b[0mdataset\u001b[0m \u001b[0;32mis\u001b[0m \u001b[0;32mNone\u001b[0m\u001b[0;34m:\u001b[0m\u001b[0;34m\u001b[0m\u001b[0;34m\u001b[0m\u001b[0m\n\u001b[1;32m    189\u001b[0m             self.dataset = open_dods(self.url, True, self.application,\n\u001b[0;32m--> 190\u001b[0;31m                                      self.session)\n\u001b[0m\u001b[1;32m    191\u001b[0m         \u001b[0;32mreturn\u001b[0m \u001b[0mself\u001b[0m\u001b[0;34m.\u001b[0m\u001b[0mdataset\u001b[0m\u001b[0;34m[\u001b[0m\u001b[0mkey\u001b[0m\u001b[0;34m]\u001b[0m\u001b[0;34m\u001b[0m\u001b[0;34m\u001b[0m\u001b[0m\n\u001b[1;32m    192\u001b[0m \u001b[0;34m\u001b[0m\u001b[0m\n",
      "\u001b[0;32m/srv/conda/envs/env_vi/lib/python3.7/site-packages/pydap/client.py\u001b[0m in \u001b[0;36mopen_dods\u001b[0;34m(url, metadata, application, session, timeout)\u001b[0m\n\u001b[1;32m    111\u001b[0m     \u001b[0;34m\"\"\"Open a `.dods` response directly, returning a dataset.\"\"\"\u001b[0m\u001b[0;34m\u001b[0m\u001b[0;34m\u001b[0m\u001b[0m\n\u001b[1;32m    112\u001b[0m     \u001b[0mr\u001b[0m \u001b[0;34m=\u001b[0m \u001b[0mGET\u001b[0m\u001b[0;34m(\u001b[0m\u001b[0murl\u001b[0m\u001b[0;34m,\u001b[0m \u001b[0mapplication\u001b[0m\u001b[0;34m,\u001b[0m \u001b[0msession\u001b[0m\u001b[0;34m,\u001b[0m \u001b[0mtimeout\u001b[0m\u001b[0;34m=\u001b[0m\u001b[0mtimeout\u001b[0m\u001b[0;34m)\u001b[0m\u001b[0;34m\u001b[0m\u001b[0;34m\u001b[0m\u001b[0m\n\u001b[0;32m--> 113\u001b[0;31m     \u001b[0mraise_for_status\u001b[0m\u001b[0;34m(\u001b[0m\u001b[0mr\u001b[0m\u001b[0;34m)\u001b[0m\u001b[0;34m\u001b[0m\u001b[0;34m\u001b[0m\u001b[0m\n\u001b[0m\u001b[1;32m    114\u001b[0m \u001b[0;34m\u001b[0m\u001b[0m\n\u001b[1;32m    115\u001b[0m     \u001b[0mdds\u001b[0m\u001b[0;34m,\u001b[0m \u001b[0mdata\u001b[0m \u001b[0;34m=\u001b[0m \u001b[0mr\u001b[0m\u001b[0;34m.\u001b[0m\u001b[0mbody\u001b[0m\u001b[0;34m.\u001b[0m\u001b[0msplit\u001b[0m\u001b[0;34m(\u001b[0m\u001b[0;34mb'\\nData:\\n'\u001b[0m\u001b[0;34m,\u001b[0m \u001b[0;36m1\u001b[0m\u001b[0;34m)\u001b[0m\u001b[0;34m\u001b[0m\u001b[0;34m\u001b[0m\u001b[0m\n",
      "\u001b[0;32m/srv/conda/envs/env_vi/lib/python3.7/site-packages/pydap/net.py\u001b[0m in \u001b[0;36mraise_for_status\u001b[0;34m(response)\u001b[0m\n\u001b[1;32m     37\u001b[0m             \u001b[0mdetail\u001b[0m\u001b[0;34m=\u001b[0m\u001b[0mresponse\u001b[0m\u001b[0;34m.\u001b[0m\u001b[0mstatus\u001b[0m\u001b[0;34m+\u001b[0m\u001b[0;34m'\\n'\u001b[0m\u001b[0;34m+\u001b[0m\u001b[0mresponse\u001b[0m\u001b[0;34m.\u001b[0m\u001b[0mtext\u001b[0m\u001b[0;34m,\u001b[0m\u001b[0;34m\u001b[0m\u001b[0;34m\u001b[0m\u001b[0m\n\u001b[1;32m     38\u001b[0m             \u001b[0mheaders\u001b[0m\u001b[0;34m=\u001b[0m\u001b[0mresponse\u001b[0m\u001b[0;34m.\u001b[0m\u001b[0mheaders\u001b[0m\u001b[0;34m,\u001b[0m\u001b[0;34m\u001b[0m\u001b[0;34m\u001b[0m\u001b[0m\n\u001b[0;32m---> 39\u001b[0;31m             \u001b[0mcomment\u001b[0m\u001b[0;34m=\u001b[0m\u001b[0mresponse\u001b[0m\u001b[0;34m.\u001b[0m\u001b[0mbody\u001b[0m\u001b[0;34m\u001b[0m\u001b[0;34m\u001b[0m\u001b[0m\n\u001b[0m\u001b[1;32m     40\u001b[0m         )\n\u001b[1;32m     41\u001b[0m \u001b[0;34m\u001b[0m\u001b[0m\n",
      "\u001b[0;31mHTTPError\u001b[0m: 500 Internal Server Error\nError { \r\n    code = 500;\r\n    message = \"libdap error transmitting DataDDS: The grid 'z' does not have identifiable latitude/longitude map vectors.\";\r\n}\r\n"
     ]
    }
   ],
   "source": [
    "# This won't work because the z Grid variable doesnt have lat and long map vectors\n",
    "amsr2_z = amsr2.functions.geogrid(amsr2.z, amsr2.y, amsr2.x, 10, 20, -10, 60)\n",
    "amsr2_z.z"
   ]
  },
  {
   "cell_type": "code",
   "execution_count": 160,
   "metadata": {},
   "outputs": [
    {
     "data": {
      "text/plain": [
       "<BaseType with data array([-3846875., -3840625., -3834375., ...,  3734375.,  3740625.,\n",
       "        3746875.])>"
      ]
     },
     "execution_count": 160,
     "metadata": {},
     "output_type": "execute_result"
    }
   ],
   "source": [
    "amsr2.z.x[:]"
   ]
  },
  {
   "cell_type": "markdown",
   "metadata": {},
   "source": [
    "### Sea Ice Thickness product test"
   ]
  },
  {
   "cell_type": "code",
   "execution_count": 161,
   "metadata": {},
   "outputs": [
    {
     "name": "stdout",
     "output_type": "stream",
     "text": [
      "Dataset {\n",
      "    Float32 smos_thickness[X = 896][Y = 608];\n",
      "    Float32 smos_thickness_unc[X = 896][Y = 608];\n",
      "    Float32 smap_thickness[X = 896][Y = 608];\n",
      "    Float32 smap_thickness_unc[X = 896][Y = 608];\n",
      "    Float32 combined_thickness[X = 896][Y = 608];\n",
      "    Float32 combined_thickness_unc[X = 896][Y = 608];\n",
      "    Int16 flags[X = 896][Y = 608];\n",
      "} 20180419_north_mix_sit_v100.nc;\n",
      "\n"
     ]
    }
   ],
   "source": [
    "url = 'https://hyrax.terradue.com/opendap/data/smos_smap/netCDF/north/2018/20180419_north_mix_sit_v100.nc'\n",
    "r = requests.get(url + '.dds')\n",
    "print(r.text)"
   ]
  },
  {
   "cell_type": "code",
   "execution_count": 162,
   "metadata": {},
   "outputs": [
    {
     "data": {
      "text/plain": [
       "<DatasetType with children 'smos_thickness', 'smos_thickness_unc', 'smap_thickness', 'smap_thickness_unc', 'combined_thickness', 'combined_thickness_unc', 'flags'>"
      ]
     },
     "execution_count": 162,
     "metadata": {},
     "output_type": "execute_result"
    }
   ],
   "source": [
    "smos_smap = open_url(url)\n",
    "smos_smap"
   ]
  },
  {
   "cell_type": "code",
   "execution_count": null,
   "metadata": {},
   "outputs": [],
   "source": []
  },
  {
   "cell_type": "markdown",
   "metadata": {
    "collapsed": "true"
   },
   "source": [
    "## Pydap-Hyrax Aggregation\n",
    "--> this is in the separate Notebook \"Aggregation_NcML_test\""
   ]
  },
  {
   "cell_type": "code",
   "execution_count": null,
   "metadata": {},
   "outputs": [],
   "source": []
  }
 ],
 "metadata": {
  "kernelspec": {
   "display_name": "Python [conda env:env_vi]",
   "language": "python",
   "name": "conda-env-env_vi-py"
  },
  "language_info": {
   "codemirror_mode": {
    "name": "ipython",
    "version": 3
   },
   "file_extension": ".py",
   "mimetype": "text/x-python",
   "name": "python",
   "nbconvert_exporter": "python",
   "pygments_lexer": "ipython3",
   "version": "3.7.9"
  }
 },
 "nbformat": 4,
 "nbformat_minor": 4
}
