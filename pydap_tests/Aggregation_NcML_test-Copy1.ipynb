{
 "cells": [
  {
   "cell_type": "code",
   "execution_count": 3,
   "metadata": {},
   "outputs": [
    {
     "name": "stdout",
     "output_type": "stream",
     "text": [
      "Requirement already satisfied: pydap in /workspace/.conda_envs/env_vi/lib/python3.7/site-packages (3.2.2)\n",
      "Requirement already satisfied: Webob in /workspace/.conda_envs/env_vi/lib/python3.7/site-packages (from pydap) (1.8.7)\n",
      "Requirement already satisfied: numpy in /workspace/.conda_envs/env_vi/lib/python3.7/site-packages (from pydap) (1.19.4)\n",
      "Requirement already satisfied: docopt in /workspace/.conda_envs/env_vi/lib/python3.7/site-packages (from pydap) (0.6.2)\n",
      "Requirement already satisfied: beautifulsoup4 in /workspace/.conda_envs/env_vi/lib/python3.7/site-packages (from pydap) (4.9.3)\n",
      "Requirement already satisfied: Jinja2 in /workspace/.conda_envs/env_vi/lib/python3.7/site-packages (from pydap) (2.11.3)\n",
      "Requirement already satisfied: six>=1.4.0 in /workspace/.conda_envs/env_vi/lib/python3.7/site-packages (from pydap) (1.15.0)\n",
      "Requirement already satisfied: soupsieve>1.2 in /workspace/.conda_envs/env_vi/lib/python3.7/site-packages (from beautifulsoup4->pydap) (2.2)\n",
      "Requirement already satisfied: MarkupSafe>=0.23 in /workspace/.conda_envs/env_vi/lib/python3.7/site-packages (from Jinja2->pydap) (1.1.1)\n"
     ]
    }
   ],
   "source": [
    "!pip install pydap\n",
    "from pydap.client import open_url\n",
    "import requests\n",
    "import numpy as np\n",
    "import matplotlib.pyplot as plt\n",
    "from matplotlib import colors"
   ]
  },
  {
   "cell_type": "markdown",
   "metadata": {},
   "source": [
    "# Sea Ice Concentration"
   ]
  },
  {
   "cell_type": "markdown",
   "metadata": {},
   "source": [
    "## Single Product"
   ]
  },
  {
   "cell_type": "code",
   "execution_count": null,
   "metadata": {},
   "outputs": [],
   "source": [
    "# Open url and check requests\n",
    "url = 'https://hyrax.terradue.com/opendap/data/amsr2/n6250/netcdf/2019/asi-AMSR2-n6250-20190101-v5.4.nc'\n",
    "r = requests.get(url + '.dds') # this allows to obtain the raw metadata, using a http request appending the suffix .dds (DAP2)\n",
    "print(r.text)"
   ]
  },
  {
   "cell_type": "code",
   "execution_count": null,
   "metadata": {},
   "outputs": [],
   "source": [
    "# Open url and check keys\n",
    "sic = open_url(url)\n",
    "keys = list(sic.keys())\n",
    "for key in keys:\n",
    "    print(key)"
   ]
  },
  {
   "cell_type": "code",
   "execution_count": null,
   "metadata": {},
   "outputs": [],
   "source": [
    "sic.data"
   ]
  },
  {
   "cell_type": "code",
   "execution_count": null,
   "metadata": {},
   "outputs": [],
   "source": [
    "# NB I can access and visualise the data directly without converting them to np.arrays apparently\n",
    "sic['z.z'][0,0].data\n",
    "\n",
    "plt.imshow(sic['z.z']); plt.show()\n",
    "\n",
    "# --------------------------\n",
    "\n",
    "# Visualise data array IF I NEED TO CONVERT, BUT IT ALSO WORKS DIRECTLY - SEE ABOVE)\n",
    "x_arr = np.array(sic['x'].data)\n",
    "\n",
    "y_arr = np.array(sic['y'].data)\n",
    "\n",
    "z_x_arr = np.array(sic['z.x'].data)\n",
    "\n",
    "z_y_arr = np.array(sic['z.y'].data)\n",
    "\n",
    "z_z_arr = np.array(sic['z.z'].data)"
   ]
  },
  {
   "cell_type": "code",
   "execution_count": null,
   "metadata": {},
   "outputs": [],
   "source": [
    "# check the x_arr is equal to z_x_arr\n",
    "print(np.count_nonzero(x_arr != z_x_arr))\n",
    "\n",
    "# check the y_arr is equal to z_y_arr\n",
    "print(np.count_nonzero(y_arr != z_y_arr))"
   ]
  },
  {
   "cell_type": "code",
   "execution_count": null,
   "metadata": {},
   "outputs": [],
   "source": [
    "z_z_arr"
   ]
  },
  {
   "cell_type": "code",
   "execution_count": null,
   "metadata": {},
   "outputs": [],
   "source": [
    "z_z_arr.shape"
   ]
  },
  {
   "cell_type": "code",
   "execution_count": null,
   "metadata": {},
   "outputs": [],
   "source": [
    "# Plot z values, with coordinates x and y\n",
    "import matplotlib.pyplot as plt\n",
    "\n",
    "plt.figure()\n",
    "plt.imshow(z_z_arr)\n",
    "plt.show()"
   ]
  },
  {
   "cell_type": "code",
   "execution_count": null,
   "metadata": {},
   "outputs": [],
   "source": [
    "z_z_arr[1600,100]"
   ]
  },
  {
   "cell_type": "markdown",
   "metadata": {},
   "source": [
    "## Time Series"
   ]
  },
  {
   "cell_type": "code",
   "execution_count": 4,
   "metadata": {},
   "outputs": [
    {
     "name": "stdout",
     "output_type": "stream",
     "text": [
      "Dataset {\n",
      "    String polar_stereographic;\n",
      "    String time[time = 2478];\n",
      "    Float64 x[time = 2478][x = 1216];\n",
      "    Float64 y[time = 2478][y = 1792];\n",
      "    Grid {\n",
      "      Array:\n",
      "        Float32 z[time = 2478][y = 1792][x = 1216];\n",
      "      Maps:\n",
      "        String time[time = 2478];\n",
      "        Float64 y[y = 1792];\n",
      "        Float64 x[x = 1216];\n",
      "    } z;\n",
      "} amsr2.ncml;\n",
      "\n"
     ]
    }
   ],
   "source": [
    "url = 'https://hyrax.terradue.com/opendap/data/ts/amsr2.ncml'\n",
    "r = requests.get(url + '.dds')\n",
    "print(r.text)"
   ]
  },
  {
   "cell_type": "code",
   "execution_count": 7,
   "metadata": {},
   "outputs": [
    {
     "name": "stdout",
     "output_type": "stream",
     "text": [
      "time\n",
      "polar_stereographic\n",
      "x\n",
      "y\n",
      "z\n"
     ]
    }
   ],
   "source": [
    "sic = open_url(url)\n",
    "keys = list(sic.keys())\n",
    "for key in keys:\n",
    "    print(key)"
   ]
  },
  {
   "cell_type": "code",
   "execution_count": 8,
   "metadata": {},
   "outputs": [
    {
     "data": {
      "text/plain": [
       "[BaseProxy('https://hyrax.terradue.com/opendap/data/ts/amsr2.ncml', 'time', dtype('S128'), (2478,), (slice(None, None, None),)),\n",
       " BaseProxy('https://hyrax.terradue.com/opendap/data/ts/amsr2.ncml', 'polar_stereographic', dtype('S128'), (), ()),\n",
       " BaseProxy('https://hyrax.terradue.com/opendap/data/ts/amsr2.ncml', 'x', dtype('>f8'), (2478, 1216), (slice(None, None, None), slice(None, None, None))),\n",
       " BaseProxy('https://hyrax.terradue.com/opendap/data/ts/amsr2.ncml', 'y', dtype('>f8'), (2478, 1792), (slice(None, None, None), slice(None, None, None))),\n",
       " [BaseProxy('https://hyrax.terradue.com/opendap/data/ts/amsr2.ncml', 'z.z', dtype('>f4'), (2478, 1792, 1216), (slice(None, None, None), slice(None, None, None), slice(None, None, None))),\n",
       "  BaseProxy('https://hyrax.terradue.com/opendap/data/ts/amsr2.ncml', 'z.time', dtype('S128'), (2478,), (slice(None, None, None),)),\n",
       "  BaseProxy('https://hyrax.terradue.com/opendap/data/ts/amsr2.ncml', 'z.y', dtype('>f8'), (1792,), (slice(None, None, None),)),\n",
       "  BaseProxy('https://hyrax.terradue.com/opendap/data/ts/amsr2.ncml', 'z.x', dtype('>f8'), (1216,), (slice(None, None, None),))]]"
      ]
     },
     "execution_count": 8,
     "metadata": {},
     "output_type": "execute_result"
    }
   ],
   "source": [
    "sic.data"
   ]
  },
  {
   "cell_type": "code",
   "execution_count": 9,
   "metadata": {},
   "outputs": [
    {
     "data": {
      "text/plain": [
       "(2478, 1792, 1216)"
      ]
     },
     "execution_count": 9,
     "metadata": {},
     "output_type": "execute_result"
    }
   ],
   "source": [
    "sic['z.z'].shape"
   ]
  },
  {
   "cell_type": "code",
   "execution_count": 19,
   "metadata": {},
   "outputs": [
    {
     "name": "stdout",
     "output_type": "stream",
     "text": [
      "Length of the time series: (2478,)\n"
     ]
    }
   ],
   "source": [
    "# Checking that 'z.time' is equal to 'time'\n",
    "# NOTE RUN 2-3 TIMES TO MAKE IT WORK...\n",
    "\n",
    "np.unique(sic['z.time'] == sic['time'])\n",
    "\n",
    "assert sic['z.time'].shape == sic['time'].shape\n",
    "\n",
    "print('Length of the time series:', sic['z.time'].shape)"
   ]
  },
  {
   "cell_type": "code",
   "execution_count": 12,
   "metadata": {},
   "outputs": [
    {
     "data": {
      "text/plain": [
       "(2478, 1792, 1216)"
      ]
     },
     "execution_count": 12,
     "metadata": {},
     "output_type": "execute_result"
    }
   ],
   "source": [
    "sic['z.z'].data.shape"
   ]
  },
  {
   "cell_type": "code",
   "execution_count": null,
   "metadata": {},
   "outputs": [],
   "source": [
    "# THIS DOESNT WORK FOR SOME REASONS!\n",
    "\n",
    "# a_arr = np.array(sic['z.z'].data)"
   ]
  },
  {
   "cell_type": "code",
   "execution_count": 47,
   "metadata": {},
   "outputs": [
    {
     "name": "stdout",
     "output_type": "stream",
     "text": [
      "(2478, 1792, 1216)\n"
     ]
    }
   ],
   "source": [
    "sic_z = sic['z.z'].data\n",
    "print(np.shape(sic_z))"
   ]
  },
  {
   "cell_type": "code",
   "execution_count": 49,
   "metadata": {},
   "outputs": [
    {
     "name": "stdout",
     "output_type": "stream",
     "text": [
      "The top-left element of the 2-d array is indexed as: \"sic_z[0][0][0,0]\" = nan\n"
     ]
    }
   ],
   "source": [
    "# The data is nested. To get the first time stamp (out of 2478 available), I can select with a[0][0]. \n",
    "sic_z[0][0] # I need the second [0] otherwise it return the 2-d array inside an array (which is unnecessary). I have to unpack this. \n",
    "\n",
    "print('The top-left element of the 2-d array is indexed as: \"sic_z[0][0][0,0]\" =', sic_z[0][0][0,0])"
   ]
  },
  {
   "cell_type": "code",
   "execution_count": 56,
   "metadata": {},
   "outputs": [
    {
     "data": {
      "text/plain": [
       "True"
      ]
     },
     "execution_count": 56,
     "metadata": {},
     "output_type": "execute_result"
    }
   ],
   "source": [
    "np.isnan(sic_z[0][0][0,0])"
   ]
  },
  {
   "cell_type": "code",
   "execution_count": 92,
   "metadata": {},
   "outputs": [
    {
     "data": {
      "image/png": "[encoded data removed]",
      "text/plain": [
       "<Figure size 432x288 with 1 Axes>"
      ]
     },
     "metadata": {
      "needs_background": "light"
     },
     "output_type": "display_data"
    }
   ],
   "source": [
    "# Plot single timestamp, like the first one --> smap[0]\n",
    "\n",
    "plt.figure()\n",
    "plt.imshow(sic_z[0][0]); plt.show()\n",
    "plt.show()"
   ]
  },
  {
   "cell_type": "code",
   "execution_count": 91,
   "metadata": {},
   "outputs": [
    {
     "data": {
      "image/png": "[encoded data removed]",
      "text/plain": [
       "<Figure size 432x288 with 1 Axes>"
      ]
     },
     "metadata": {
      "needs_background": "light"
     },
     "output_type": "display_data"
    },
    {
     "data": {
      "image/png": "[encoded data removed]",
      "text/plain": [
       "<Figure size 432x288 with 1 Axes>"
      ]
     },
     "metadata": {
      "needs_background": "light"
     },
     "output_type": "display_data"
    },
    {
     "data": {
      "image/png": "[encoded data removed]",
      "text/plain": [
       "<Figure size 432x288 with 1 Axes>"
      ]
     },
     "metadata": {
      "needs_background": "light"
     },
     "output_type": "display_data"
    },
    {
     "ename": "HTTPError",
     "evalue": "500 Internal Server Error\nError { \r\n    code = 500;\r\n    message = \"Problem encountered with BES connection. Message: 'Failed to write to socket: Broken pipe (Write failed)' OPeNDAPClient executed 6 prior commands.\";\r\n}\r\n",
     "output_type": "error",
     "traceback": [
      "\u001b[0;31m---------------------------------------------------------------------------\u001b[0m",
      "\u001b[0;31mHTTPError\u001b[0m                                 Traceback (most recent call last)",
      "\u001b[0;32m<ipython-input-91-5296d5f77aef>\u001b[0m in \u001b[0;36m<module>\u001b[0;34m\u001b[0m\n\u001b[1;32m      7\u001b[0m \u001b[0mims\u001b[0m \u001b[0;34m=\u001b[0m \u001b[0;34m[\u001b[0m\u001b[0;34m]\u001b[0m\u001b[0;34m\u001b[0m\u001b[0;34m\u001b[0m\u001b[0m\n\u001b[1;32m      8\u001b[0m \u001b[0;32mfor\u001b[0m \u001b[0mi\u001b[0m \u001b[0;32min\u001b[0m \u001b[0mrange\u001b[0m\u001b[0;34m(\u001b[0m\u001b[0;36m0\u001b[0m\u001b[0;34m,\u001b[0m\u001b[0;36m5\u001b[0m\u001b[0;34m)\u001b[0m\u001b[0;34m:\u001b[0m\u001b[0;31m#sic_z.shape[0]):\u001b[0m\u001b[0;34m\u001b[0m\u001b[0;34m\u001b[0m\u001b[0m\n\u001b[0;32m----> 9\u001b[0;31m     \u001b[0mdata\u001b[0m \u001b[0;34m=\u001b[0m \u001b[0msic_z\u001b[0m\u001b[0;34m[\u001b[0m\u001b[0mi\u001b[0m\u001b[0;34m]\u001b[0m\u001b[0;34m[\u001b[0m\u001b[0;36m0\u001b[0m\u001b[0;34m]\u001b[0m\u001b[0;34m\u001b[0m\u001b[0;34m\u001b[0m\u001b[0m\n\u001b[0m\u001b[1;32m     10\u001b[0m \u001b[0;34m\u001b[0m\u001b[0m\n\u001b[1;32m     11\u001b[0m     \u001b[0mim\u001b[0m \u001b[0;34m=\u001b[0m \u001b[0mplt\u001b[0m\u001b[0;34m.\u001b[0m\u001b[0mimshow\u001b[0m\u001b[0;34m(\u001b[0m\u001b[0mdata\u001b[0m\u001b[0;34m)\u001b[0m\u001b[0;34m\u001b[0m\u001b[0;34m\u001b[0m\u001b[0m\n",
      "\u001b[0;32m/srv/conda/envs/env_vi/lib/python3.7/site-packages/pydap/handlers/dap.py\u001b[0m in \u001b[0;36m__getitem__\u001b[0;34m(self, index)\u001b[0m\n\u001b[1;32m    140\u001b[0m         \u001b[0mlogger\u001b[0m\u001b[0;34m.\u001b[0m\u001b[0minfo\u001b[0m\u001b[0;34m(\u001b[0m\u001b[0;34m\"Fetching URL: %s\"\u001b[0m \u001b[0;34m%\u001b[0m \u001b[0murl\u001b[0m\u001b[0;34m)\u001b[0m\u001b[0;34m\u001b[0m\u001b[0;34m\u001b[0m\u001b[0m\n\u001b[1;32m    141\u001b[0m         \u001b[0mr\u001b[0m \u001b[0;34m=\u001b[0m \u001b[0mGET\u001b[0m\u001b[0;34m(\u001b[0m\u001b[0murl\u001b[0m\u001b[0;34m,\u001b[0m \u001b[0mself\u001b[0m\u001b[0;34m.\u001b[0m\u001b[0mapplication\u001b[0m\u001b[0;34m,\u001b[0m \u001b[0mself\u001b[0m\u001b[0;34m.\u001b[0m\u001b[0msession\u001b[0m\u001b[0;34m,\u001b[0m \u001b[0mtimeout\u001b[0m\u001b[0;34m=\u001b[0m\u001b[0mself\u001b[0m\u001b[0;34m.\u001b[0m\u001b[0mtimeout\u001b[0m\u001b[0;34m)\u001b[0m\u001b[0;34m\u001b[0m\u001b[0;34m\u001b[0m\u001b[0m\n\u001b[0;32m--> 142\u001b[0;31m         \u001b[0mraise_for_status\u001b[0m\u001b[0;34m(\u001b[0m\u001b[0mr\u001b[0m\u001b[0;34m)\u001b[0m\u001b[0;34m\u001b[0m\u001b[0;34m\u001b[0m\u001b[0m\n\u001b[0m\u001b[1;32m    143\u001b[0m         \u001b[0mdds\u001b[0m\u001b[0;34m,\u001b[0m \u001b[0mdata\u001b[0m \u001b[0;34m=\u001b[0m \u001b[0mr\u001b[0m\u001b[0;34m.\u001b[0m\u001b[0mbody\u001b[0m\u001b[0;34m.\u001b[0m\u001b[0msplit\u001b[0m\u001b[0;34m(\u001b[0m\u001b[0;34mb'\\nData:\\n'\u001b[0m\u001b[0;34m,\u001b[0m \u001b[0;36m1\u001b[0m\u001b[0;34m)\u001b[0m\u001b[0;34m\u001b[0m\u001b[0;34m\u001b[0m\u001b[0m\n\u001b[1;32m    144\u001b[0m         \u001b[0mdds\u001b[0m \u001b[0;34m=\u001b[0m \u001b[0mdds\u001b[0m\u001b[0;34m.\u001b[0m\u001b[0mdecode\u001b[0m\u001b[0;34m(\u001b[0m\u001b[0mr\u001b[0m\u001b[0;34m.\u001b[0m\u001b[0mcontent_encoding\u001b[0m \u001b[0;32mor\u001b[0m \u001b[0;34m'ascii'\u001b[0m\u001b[0;34m)\u001b[0m\u001b[0;34m\u001b[0m\u001b[0;34m\u001b[0m\u001b[0m\n",
      "\u001b[0;32m/srv/conda/envs/env_vi/lib/python3.7/site-packages/pydap/net.py\u001b[0m in \u001b[0;36mraise_for_status\u001b[0;34m(response)\u001b[0m\n\u001b[1;32m     34\u001b[0m             \u001b[0mdetail\u001b[0m\u001b[0;34m=\u001b[0m\u001b[0mresponse\u001b[0m\u001b[0;34m.\u001b[0m\u001b[0mstatus\u001b[0m\u001b[0;34m+\u001b[0m\u001b[0;34m'\\n'\u001b[0m\u001b[0;34m+\u001b[0m\u001b[0mresponse\u001b[0m\u001b[0;34m.\u001b[0m\u001b[0mtext\u001b[0m\u001b[0;34m,\u001b[0m\u001b[0;34m\u001b[0m\u001b[0;34m\u001b[0m\u001b[0m\n\u001b[1;32m     35\u001b[0m             \u001b[0mheaders\u001b[0m\u001b[0;34m=\u001b[0m\u001b[0mresponse\u001b[0m\u001b[0;34m.\u001b[0m\u001b[0mheaders\u001b[0m\u001b[0;34m,\u001b[0m\u001b[0;34m\u001b[0m\u001b[0;34m\u001b[0m\u001b[0m\n\u001b[0;32m---> 36\u001b[0;31m             \u001b[0mcomment\u001b[0m\u001b[0;34m=\u001b[0m\u001b[0mresponse\u001b[0m\u001b[0;34m.\u001b[0m\u001b[0mbody\u001b[0m\u001b[0;34m\u001b[0m\u001b[0;34m\u001b[0m\u001b[0m\n\u001b[0m\u001b[1;32m     37\u001b[0m         )\n\u001b[1;32m     38\u001b[0m \u001b[0;34m\u001b[0m\u001b[0m\n",
      "\u001b[0;31mHTTPError\u001b[0m: 500 Internal Server Error\nError { \r\n    code = 500;\r\n    message = \"Problem encountered with BES connection. Message: 'Failed to write to socket: Broken pipe (Write failed)' OPeNDAPClient executed 6 prior commands.\";\r\n}\r\n"
     ]
    }
   ],
   "source": [
    "# Make animation and save to GIF\n",
    "import matplotlib.animation as animation\n",
    "from matplotlib.animation import PillowWriter\n",
    "\n",
    "fig = plt.figure()\n",
    "\n",
    "ims = []\n",
    "for i in range(0,5):#sic_z.shape[0]):\n",
    "    data = sic_z[i][0]\n",
    "    \n",
    "    im = plt.imshow(data)\n",
    "    # use the time (converted to string) as title of the image \n",
    "    #title = sic['time'].data[i].decode('UTF-8')[:10]; print(title)\n",
    "    #im.axes.set_title(title)\n",
    "    plt.show()\n",
    "#     ims.append([im])\n",
    "    \n",
    "# ani = animation.ArtistAnimation(fig, ims, interval=500, blit=True, repeat=False)\n",
    "\n",
    "# writer = PillowWriter(fps=2)\n",
    "# ani.save(\"sic.gif\", writer=writer)\n",
    "\n",
    "# plt.show()"
   ]
  },
  {
   "cell_type": "code",
   "execution_count": null,
   "metadata": {},
   "outputs": [],
   "source": []
  },
  {
   "cell_type": "code",
   "execution_count": null,
   "metadata": {},
   "outputs": [],
   "source": []
  },
  {
   "cell_type": "markdown",
   "metadata": {},
   "source": [
    "# Sea Ice Thickness"
   ]
  },
  {
   "cell_type": "markdown",
   "metadata": {},
   "source": [
    "## Single Product"
   ]
  },
  {
   "cell_type": "code",
   "execution_count": 93,
   "metadata": {},
   "outputs": [
    {
     "name": "stdout",
     "output_type": "stream",
     "text": [
      "Dataset {\n",
      "    Float32 smos_thickness[X = 896][Y = 608];\n",
      "    Float32 smos_thickness_unc[X = 896][Y = 608];\n",
      "    Float32 smap_thickness[X = 896][Y = 608];\n",
      "    Float32 smap_thickness_unc[X = 896][Y = 608];\n",
      "    Float32 combined_thickness[X = 896][Y = 608];\n",
      "    Float32 combined_thickness_unc[X = 896][Y = 608];\n",
      "    Int16 flags[X = 896][Y = 608];\n",
      "} 20180419_north_mix_sit_v100.nc;\n",
      "\n"
     ]
    }
   ],
   "source": [
    "url = 'https://hyrax.terradue.com/opendap/data/smos_smap/netCDF/north/2018/20180419_north_mix_sit_v100.nc'\n",
    "r = requests.get(url + '.dds')\n",
    "print(r.text)"
   ]
  },
  {
   "cell_type": "code",
   "execution_count": 94,
   "metadata": {},
   "outputs": [
    {
     "name": "stdout",
     "output_type": "stream",
     "text": [
      "smos_thickness\n",
      "smos_thickness_unc\n",
      "smap_thickness\n",
      "smap_thickness_unc\n",
      "combined_thickness\n",
      "combined_thickness_unc\n",
      "flags\n"
     ]
    }
   ],
   "source": [
    "sit = open_url(url)\n",
    "keys = list(sit.keys())\n",
    "for key in keys:\n",
    "    print(key)"
   ]
  },
  {
   "cell_type": "code",
   "execution_count": 96,
   "metadata": {},
   "outputs": [],
   "source": [
    "smos = sit['smos_thickness'].data\n",
    "\n",
    "smap = sit['smap_thickness'].data\n",
    "\n",
    "comb = sit['combined_thickness'].data"
   ]
  },
  {
   "cell_type": "code",
   "execution_count": 99,
   "metadata": {},
   "outputs": [
    {
     "data": {
      "image/png": "[encoded data removed]",
      "text/plain": [
       "<Figure size 432x288 with 1 Axes>"
      ]
     },
     "metadata": {
      "needs_background": "light"
     },
     "output_type": "display_data"
    },
    {
     "data": {
      "image/png": "[encoded data removed]",
      "text/plain": [
       "<Figure size 432x288 with 1 Axes>"
      ]
     },
     "metadata": {
      "needs_background": "light"
     },
     "output_type": "display_data"
    },
    {
     "data": {
      "image/png": "[encoded data removed]",
      "text/plain": [
       "<Figure size 432x288 with 1 Axes>"
      ]
     },
     "metadata": {
      "needs_background": "light"
     },
     "output_type": "display_data"
    }
   ],
   "source": [
    "# Plot smos\n",
    "plt.figure()\n",
    "plt.imshow(smos); plt.title('smos')\n",
    "plt.show()\n",
    "\n",
    "# Plot smap\n",
    "plt.figure()\n",
    "plt.imshow(smap); plt.title('smap')\n",
    "plt.show()\n",
    "\n",
    "# Plot combined\n",
    "plt.figure()\n",
    "plt.imshow(comb); plt.title('combined')\n",
    "plt.show()"
   ]
  },
  {
   "cell_type": "code",
   "execution_count": null,
   "metadata": {},
   "outputs": [],
   "source": []
  },
  {
   "cell_type": "code",
   "execution_count": null,
   "metadata": {},
   "outputs": [],
   "source": []
  },
  {
   "cell_type": "markdown",
   "metadata": {},
   "source": [
    "## Time Series"
   ]
  },
  {
   "cell_type": "code",
   "execution_count": null,
   "metadata": {},
   "outputs": [],
   "source": [
    "url = 'https://hyrax.terradue.com/opendap/data/ts/smos_smap.ncml'\n",
    "r = requests.get(url + '.dds')\n",
    "print(r.text)"
   ]
  },
  {
   "cell_type": "code",
   "execution_count": null,
   "metadata": {},
   "outputs": [],
   "source": [
    "sit = open_url(url)\n",
    "keys = list(sit.keys())\n",
    "for key in keys:\n",
    "    print(key)"
   ]
  },
  {
   "cell_type": "code",
   "execution_count": null,
   "metadata": {},
   "outputs": [],
   "source": [
    "sit.data"
   ]
  },
  {
   "cell_type": "code",
   "execution_count": null,
   "metadata": {},
   "outputs": [],
   "source": [
    "sit.smos_thickness.shape"
   ]
  },
  {
   "cell_type": "code",
   "execution_count": null,
   "metadata": {},
   "outputs": [],
   "source": [
    "sit.smap_thickness.shape"
   ]
  },
  {
   "cell_type": "code",
   "execution_count": null,
   "metadata": {},
   "outputs": [],
   "source": [
    "sit.time[0:10].data"
   ]
  },
  {
   "cell_type": "code",
   "execution_count": null,
   "metadata": {},
   "outputs": [],
   "source": [
    "smos = np.array(sit['smos_thickness'].data)\n",
    "smos"
   ]
  },
  {
   "cell_type": "code",
   "execution_count": null,
   "metadata": {},
   "outputs": [],
   "source": [
    "smap = np.array(sit['smap_thickness'].data)\n",
    "smap"
   ]
  },
  {
   "cell_type": "code",
   "execution_count": null,
   "metadata": {},
   "outputs": [],
   "source": [
    "# Note the shape of smap. The first dimention is the time stamp! so smap[0] is the first in time (with second and third dims being x and y)\n",
    "smap.shape"
   ]
  },
  {
   "cell_type": "code",
   "execution_count": null,
   "metadata": {},
   "outputs": [],
   "source": [
    "np.round(smap,0)"
   ]
  },
  {
   "cell_type": "code",
   "execution_count": null,
   "metadata": {},
   "outputs": [],
   "source": [
    "smap_nonan = np.where(smap[0]==-999,np.nan,smap[0])\n",
    "np.nanmax(smap_nonan)"
   ]
  },
  {
   "cell_type": "code",
   "execution_count": null,
   "metadata": {},
   "outputs": [],
   "source": [
    "# Plot single timestamp, like the first one --> smap[0]\n",
    "from matplotlib import colors\n",
    "plt.figure()\n",
    "plt.imshow(np.where(smap[0]==-999,np.nan,smap[0]),norm=colors.Normalize(-0,51))\n",
    "plt.show()"
   ]
  },
  {
   "cell_type": "code",
   "execution_count": null,
   "metadata": {},
   "outputs": [],
   "source": [
    "smap[0,500,200]"
   ]
  },
  {
   "cell_type": "code",
   "execution_count": null,
   "metadata": {},
   "outputs": [],
   "source": [
    "time = np.array(sit['time'].data)\n",
    "time"
   ]
  },
  {
   "cell_type": "code",
   "execution_count": null,
   "metadata": {},
   "outputs": [],
   "source": [
    "# convert from bytes_ to string \n",
    "time[0].decode('UTF-8')[:10]"
   ]
  },
  {
   "cell_type": "code",
   "execution_count": null,
   "metadata": {},
   "outputs": [],
   "source": [
    "time[:10]"
   ]
  },
  {
   "cell_type": "code",
   "execution_count": null,
   "metadata": {},
   "outputs": [],
   "source": [
    "# Make animation and save to GIF\n",
    "import matplotlib.animation as animation\n",
    "from matplotlib.animation import PillowWriter\n",
    "\n",
    "fig = plt.figure()\n",
    "\n",
    "ims = []\n",
    "for i in range(0,smap.shape[0]):\n",
    "    # put -999 to nans\n",
    "    no_nans = np.where(smap[i]==-999,np.nan,smap[i])\n",
    "    \n",
    "    # display only area in the centre for plotting\n",
    "    im = plt.imshow(no_nans[150:600,100:500])\n",
    "    # use the time (converted to string) as title of the image \n",
    "    title = time[i].decode('UTF-8')[:10]#; print(title)\n",
    "    im.axes.set_title(title)\n",
    "    \n",
    "    ims.append([im])\n",
    "    \n",
    "ani = animation.ArtistAnimation(fig, ims, interval=500, blit=True, repeat=False)\n",
    "\n",
    "writer = PillowWriter(fps=2)\n",
    "ani.save(\"smap_test_zoom.gif\", writer=writer)\n",
    "\n",
    "plt.show()"
   ]
  },
  {
   "cell_type": "code",
   "execution_count": null,
   "metadata": {},
   "outputs": [],
   "source": []
  }
 ],
 "metadata": {
  "kernelspec": {
   "display_name": "Python [conda env:env_vi]",
   "language": "python",
   "name": "conda-env-env_vi-py"
  },
  "language_info": {
   "codemirror_mode": {
    "name": "ipython",
    "version": 3
   },
   "file_extension": ".py",
   "mimetype": "text/x-python",
   "name": "python",
   "nbconvert_exporter": "python",
   "pygments_lexer": "ipython3",
   "version": "3.7.9"
  }
 },
 "nbformat": 4,
 "nbformat_minor": 4
}
